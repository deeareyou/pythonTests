{
 "cells": [
  {
   "cell_type": "code",
   "execution_count": 1,
   "metadata": {},
   "outputs": [],
   "source": [
    "import pandas as pd\n",
    "import numpy as np\n"
   ]
  },
  {
   "cell_type": "code",
   "execution_count": 2,
   "metadata": {},
   "outputs": [],
   "source": [
    "from selenium import webdriver\n",
    "from selenium.webdriver.common.desired_capabilities import DesiredCapabilities"
   ]
  },
  {
   "cell_type": "code",
   "execution_count": 3,
   "metadata": {},
   "outputs": [],
   "source": [
    "from bs4 import BeautifulSoup"
   ]
  },
  {
   "cell_type": "code",
   "execution_count": 4,
   "metadata": {},
   "outputs": [],
   "source": [
    "import matplotlib.pyplot as plt\n",
    "%matplotlib inline"
   ]
  },
  {
   "cell_type": "code",
   "execution_count": 13,
   "metadata": {},
   "outputs": [
    {
     "name": "stderr",
     "output_type": "stream",
     "text": [
      "D:\\Users\\awjessu\\AppData\\Local\\Continuum\\anaconda3\\lib\\site-packages\\selenium\\webdriver\\phantomjs\\webdriver.py:49: UserWarning: Selenium support for PhantomJS has been deprecated, please use headless versions of Chrome or Firefox instead\n",
      "  warnings.warn('Selenium support for PhantomJS has been deprecated, please use headless '\n"
     ]
    }
   ],
   "source": [
    "url = \"https://www.google.com/flights/explore/#explore;f=IAD,DCA,BWI;t=r-Central+America-0x8f0b58c0f7680811%253A0x8dace0c7060b2570;li=3;lx=5;d=2018-05-11\"\n",
    "htmlString = '<html><body><div style=\"background-color:red;height:500px;width:500px;\">This is a png</div></body></html>'\n",
    "driver = webdriver.PhantomJS()\n"
   ]
  },
  {
   "cell_type": "code",
   "execution_count": 14,
   "metadata": {},
   "outputs": [
    {
     "name": "stderr",
     "output_type": "stream",
     "text": [
      "D:\\Users\\awjessu\\AppData\\Local\\Continuum\\anaconda3\\lib\\site-packages\\selenium\\webdriver\\phantomjs\\webdriver.py:49: UserWarning: Selenium support for PhantomJS has been deprecated, please use headless versions of Chrome or Firefox instead\n",
      "  warnings.warn('Selenium support for PhantomJS has been deprecated, please use headless '\n"
     ]
    }
   ],
   "source": [
    "dcap = dict(DesiredCapabilities.PHANTOMJS)\n",
    "dcap[\"phantomjs.page.settings.userAgent\"] = (\"Mozilla/5.0 (Windows NT 10.0; WOW64) AppleWebKit/537.36 (KHTML, like Gecko) Chrome/66.0.3359.139 Safari/537.36\")\n",
    "driver = webdriver.PhantomJS(desired_capabilities=dcap,service_args=['--ignore-ssl-errors=true'])\n",
    "driver.execute_script(\"document.write('{}');\".format(htmlString))  # changing the DOM\n",
    "driver.implicitly_wait(25)\n",
    "driver.get(url)\n"
   ]
  },
  {
   "cell_type": "code",
   "execution_count": 15,
   "metadata": {},
   "outputs": [
    {
     "data": {
      "text/plain": [
       "True"
      ]
     },
     "execution_count": 15,
     "metadata": {},
     "output_type": "execute_result"
    }
   ],
   "source": [
    "driver.save_screenshot(r'flightScreenShot3.png')"
   ]
  },
  {
   "cell_type": "code",
   "execution_count": 16,
   "metadata": {
    "scrolled": true
   },
   "outputs": [],
   "source": [
    "#s = BeautifulSoup(driver.page_source,\"lxml'\")\n",
    "s = BeautifulSoup(driver.page_source, 'html.parser')"
   ]
  },
  {
   "cell_type": "code",
   "execution_count": 17,
   "metadata": {},
   "outputs": [],
   "source": [
    "best_price_tags = s.find_all('div','CTPFVNB-w-e') \n",
    "best_prices = []\n",
    "for tag in best_price_tags:\n",
    "    best_prices.append(int(tag.text.replace('$','').replace(',','')))"
   ]
  },
  {
   "cell_type": "code",
   "execution_count": 18,
   "metadata": {},
   "outputs": [
    {
     "data": {
      "text/plain": [
       "[215, 262, 262, 292, 322, 340, 366, 375, 389, 403, 407, 447]"
      ]
     },
     "execution_count": 18,
     "metadata": {},
     "output_type": "execute_result"
    }
   ],
   "source": [
    "best_prices"
   ]
  },
  {
   "cell_type": "code",
   "execution_count": 19,
   "metadata": {},
   "outputs": [
    {
     "data": {
      "text/plain": [
       "[<div class=\"CTPFVNB-w-e\" style=\"top: 49.79109495908428px;\">$215</div>,\n",
       " <div class=\"CTPFVNB-w-e\" style=\"top: 43.73094170403587px;\">$262</div>,\n",
       " <div class=\"CTPFVNB-w-e\" style=\"top: 52.93011790334601px;\">$262</div>,\n",
       " <div class=\"CTPFVNB-w-e\" style=\"top: 29.638244172811397px;\">$292</div>,\n",
       " <div class=\"CTPFVNB-w-e\" style=\"top: 33.52130980442122px;\">$322</div>,\n",
       " <div class=\"CTPFVNB-w-e\" style=\"top: 50.21052631578948px;\">$340</div>,\n",
       " <div class=\"CTPFVNB-w-e\" style=\"top: 18.96194674343289px;\">$366</div>,\n",
       " <div class=\"CTPFVNB-w-e\" style=\"top: 28.36328125px;\">$375</div>,\n",
       " <div class=\"CTPFVNB-w-e\" style=\"top: 24.232665394402034px;\">$389</div>,\n",
       " <div class=\"CTPFVNB-w-e\" style=\"top: 24.977185083869983px;\">$403</div>,\n",
       " <div class=\"CTPFVNB-w-e\" style=\"top: 17.72059576734752px;\">$407</div>,\n",
       " <div class=\"CTPFVNB-w-e\" style=\"top: 22.748943661971836px;\">$447</div>]"
      ]
     },
     "execution_count": 19,
     "metadata": {},
     "output_type": "execute_result"
    }
   ],
   "source": [
    "best_price_tags"
   ]
  },
  {
   "cell_type": "code",
   "execution_count": 20,
   "metadata": {},
   "outputs": [],
   "source": [
    "best_price=best_prices[0]"
   ]
  },
  {
   "cell_type": "code",
   "execution_count": 21,
   "metadata": {},
   "outputs": [
    {
     "data": {
      "text/plain": [
       "215"
      ]
     },
     "execution_count": 21,
     "metadata": {},
     "output_type": "execute_result"
    }
   ],
   "source": [
    "best_price"
   ]
  },
  {
   "cell_type": "code",
   "execution_count": 22,
   "metadata": {},
   "outputs": [
    {
     "data": {
      "text/plain": [
       "[<div class=\"CTPFVNB-w-x CTPFVNB-w-f CTPFVNB-w-M\" style=\"left: 48px; height: 56.20890504091572px;\"></div>,\n",
       " <div class=\"CTPFVNB-w-x CTPFVNB-w-f\" style=\"left: 150px; height: 62.26905829596413px;\"></div>,\n",
       " <div class=\"CTPFVNB-w-x CTPFVNB-w-f CTPFVNB-w-M\" style=\"left: 6px; height: 53.06988209665399px;\"></div>,\n",
       " <div class=\"CTPFVNB-w-x CTPFVNB-w-f CTPFVNB-w-M\" style=\"left: 6px; height: 76.3617558271886px;\"></div>,\n",
       " <div class=\"CTPFVNB-w-x CTPFVNB-w-f\" style=\"left: 126px; height: 72.47869019557878px;\"></div>,\n",
       " <div class=\"CTPFVNB-w-x CTPFVNB-w-f\" style=\"left: 144px; height: 55.78947368421052px;\"></div>,\n",
       " <div class=\"CTPFVNB-w-x CTPFVNB-w-f\" style=\"left: 60px; height: 87.03805325656711px;\"></div>,\n",
       " <div class=\"CTPFVNB-w-x CTPFVNB-w-f\" style=\"left: 0px; height: 77.63671875px;\"></div>,\n",
       " <div class=\"CTPFVNB-w-x CTPFVNB-w-f\" style=\"left: 150px; height: 81.76733460559797px;\"></div>,\n",
       " <div class=\"CTPFVNB-w-x CTPFVNB-w-f\" style=\"left: 60px; height: 81.02281491613002px;\"></div>,\n",
       " <div class=\"CTPFVNB-w-x CTPFVNB-w-f\" style=\"left: 42px; height: 88.27940423265248px;\"></div>,\n",
       " <div class=\"CTPFVNB-w-x CTPFVNB-w-f\" style=\"left: 108px; height: 83.25105633802816px;\"></div>]"
      ]
     },
     "execution_count": 22,
     "metadata": {},
     "output_type": "execute_result"
    }
   ],
   "source": [
    "best_height_tags = s.find_all('div','CTPFVNB-w-f')\n",
    "best_height_tags"
   ]
  },
  {
   "cell_type": "code",
   "execution_count": 23,
   "metadata": {},
   "outputs": [],
   "source": [
    "best_heights= []\n",
    "for t in best_height_tags:\n",
    "    best_heights.append(float(t.attrs['style'].split('height:')[1].replace('px;','')))"
   ]
  },
  {
   "cell_type": "code",
   "execution_count": 24,
   "metadata": {},
   "outputs": [],
   "source": [
    "best_height=best_heights[0]"
   ]
  },
  {
   "cell_type": "code",
   "execution_count": 25,
   "metadata": {},
   "outputs": [
    {
     "data": {
      "text/plain": [
       "56.20890504091572"
      ]
     },
     "execution_count": 25,
     "metadata": {},
     "output_type": "execute_result"
    }
   ],
   "source": [
    "best_height"
   ]
  },
  {
   "cell_type": "code",
   "execution_count": 26,
   "metadata": {},
   "outputs": [],
   "source": [
    "pph = np.array(best_price)/np.array(best_height)"
   ]
  },
  {
   "cell_type": "code",
   "execution_count": 27,
   "metadata": {},
   "outputs": [
    {
     "data": {
      "text/plain": [
       "3.8250166916344788"
      ]
     },
     "execution_count": 27,
     "metadata": {},
     "output_type": "execute_result"
    }
   ],
   "source": [
    "pph"
   ]
  },
  {
   "cell_type": "code",
   "execution_count": 32,
   "metadata": {},
   "outputs": [],
   "source": [
    "cities = s.find_all('div', 'CTPFVNB-w-o')"
   ]
  },
  {
   "cell_type": "code",
   "execution_count": 33,
   "metadata": {},
   "outputs": [
    {
     "data": {
      "text/plain": [
       "[<div class=\"CTPFVNB-w-o CTPFVNB-w-b\"><div class=\"CTPFVNB-w-x\" style=\"left: 0px; height: 77.83134317288437px;\"></div><div class=\"CTPFVNB-w-x CTPFVNB-w-M\" style=\"left: 6px; height: 69.31182476699053px;\"></div><div class=\"CTPFVNB-w-x CTPFVNB-w-M\" style=\"left: 12px; height: 69.31182476699053px;\"></div><div class=\"CTPFVNB-w-x\" style=\"left: 18px; height: 69.31182476699053px;\"></div><div class=\"CTPFVNB-w-x\" style=\"left: 24px; height: 70.48846695839205px;\"></div><div class=\"CTPFVNB-w-x\" style=\"left: 30px; height: 64.72842344680957px;\"></div><div class=\"CTPFVNB-w-x\" style=\"left: 36px; height: 65.25254023585256px;\"></div><div class=\"CTPFVNB-w-x\" style=\"left: 42px; height: 66.19595045612994px;\"></div><div class=\"CTPFVNB-w-x CTPFVNB-w-f CTPFVNB-w-M\" style=\"left: 48px; height: 56.20890504091572px;\"></div><div class=\"CTPFVNB-w-x CTPFVNB-w-M\" style=\"left: 54px; height: 56.20890504091572px;\"></div><div class=\"CTPFVNB-w-x\" style=\"left: 60px; height: 56.20890504091572px;\"></div><div class=\"CTPFVNB-w-x\" style=\"left: 66px; height: 64.72842344680957px;\"></div><div class=\"CTPFVNB-w-x\" style=\"left: 72px; height: 72.32287572004252px;\"></div><div class=\"CTPFVNB-w-x\" style=\"left: 78px; height: 106px;\"></div><div class=\"CTPFVNB-w-x\" style=\"left: 84px; height: 91.45837968800218px;\"></div><div class=\"CTPFVNB-w-x CTPFVNB-w-M\" style=\"left: 90px; height: 74.94870083314791px;\"></div><div class=\"CTPFVNB-w-x CTPFVNB-w-M\" style=\"left: 96px; height: 56.20890504091572px;\"></div><div class=\"CTPFVNB-w-x\" style=\"left: 102px; height: 61.45007293134565px;\"></div><div class=\"CTPFVNB-w-x\" style=\"left: 108px; height: 56.20890504091572px;\"></div><div class=\"CTPFVNB-w-x\" style=\"left: 114px; height: 69.31182476699053px;\"></div><div class=\"CTPFVNB-w-x\" style=\"left: 120px; height: 70.23164973176098px;\"></div><div class=\"CTPFVNB-w-x\" style=\"left: 126px; height: 69.31182476699053px;\"></div><div class=\"CTPFVNB-w-x CTPFVNB-w-M\" style=\"left: 132px; height: 67.0817078296126px;\"></div><div class=\"CTPFVNB-w-x CTPFVNB-w-M\" style=\"left: 138px; height: 56.20890504091572px;\"></div><div class=\"CTPFVNB-w-x\" style=\"left: 144px; height: 56.20890504091572px;\"></div><div class=\"CTPFVNB-w-x\" style=\"left: 150px; height: 56.20890504091572px;\"></div><div class=\"CTPFVNB-w-x\" style=\"left: 156px; height: 61.45007293134565px;\"></div><div class=\"CTPFVNB-w-x\" style=\"left: 162px; height: 77.17357660263542px;\"></div><div class=\"CTPFVNB-w-x\" style=\"left: 168px; height: 61.45007293134565px;\"></div><div class=\"CTPFVNB-w-x CTPFVNB-w-M\" style=\"left: 174px; height: 67.0817078296126px;\"></div><div class=\"CTPFVNB-w-x CTPFVNB-w-M\" style=\"left: 180px; height: 58.829488986130684px;\"></div><div class=\"CTPFVNB-w-x\" style=\"left: 186px; height: 60.139780958738164px;\"></div><div class=\"CTPFVNB-w-x\" style=\"left: 192px; height: 69.4454745481965px;\"></div><div class=\"CTPFVNB-w-x\" style=\"left: 198px; height: 74.68664243862642px;\"></div><div class=\"CTPFVNB-w-x\" style=\"left: 204px; height: 84.90691982496477px;\"></div><div class=\"CTPFVNB-w-x\" style=\"left: 210px; height: 82.5483942742713px;\"></div><div class=\"CTPFVNB-w-x CTPFVNB-w-M\" style=\"left: 216px; height: 73.63316769265px;\"></div><div class=\"CTPFVNB-w-x CTPFVNB-w-M\" style=\"left: 222px; height: 74.68664243862642px;\"></div><div class=\"CTPFVNB-w-x\" style=\"left: 228px; height: 64.0706568765606px;\"></div><div class=\"CTPFVNB-w-x\" style=\"left: 234px; height: 84.38280303592178px;\"></div><div class=\"CTPFVNB-w-x\" style=\"left: 240px; height: 84.38280303592178px;\"></div><div class=\"CTPFVNB-w-x\" style=\"left: 246px; height: 85.43103661400777px;\"></div><div class=\"CTPFVNB-w-x\" style=\"left: 252px; height: 84.90691982496477px;\"></div><div class=\"CTPFVNB-w-x CTPFVNB-w-M\" style=\"left: 258px; height: 73.63316769265px;\"></div><div class=\"CTPFVNB-w-x CTPFVNB-w-M\" style=\"left: 264px; height: 73.24270068481297px;\"></div><div class=\"CTPFVNB-w-x\" style=\"left: 270px; height: 64.0706568765606px;\"></div><div class=\"CTPFVNB-w-x\" style=\"left: 276px; height: 86.21721179757226px;\"></div><div class=\"CTPFVNB-w-x\" style=\"left: 282px; height: 87.00600756508196px;\"></div><div class=\"CTPFVNB-w-x\" style=\"left: 288px; height: 89.88602932087319px;\"></div><div class=\"CTPFVNB-w-x\" style=\"left: 294px; height: 93.81690523869564px;\"></div><div class=\"CTPFVNB-w-x CTPFVNB-w-M\" style=\"left: 300px; height: 87.65591238349526px;\"></div><div class=\"CTPFVNB-w-x CTPFVNB-w-M\" style=\"left: 306px; height: 79.79416054785038px;\"></div><div class=\"CTPFVNB-w-x\" style=\"left: 312px; height: 74.55299265742046px;\"></div><div class=\"CTPFVNB-w-x\" style=\"left: 318px; height: 87.78956216470122px;\"></div><div class=\"CTPFVNB-w-x\" style=\"left: 324px; height: 88.86662216618457px;\"></div><div class=\"CTPFVNB-w-x\" style=\"left: 330px; height: 83.33456945783578px;\"></div><div class=\"CTPFVNB-w-x\" style=\"left: 336px; height: 83.72503646567282px;\"></div><div class=\"CTPFVNB-w-x CTPFVNB-w-M\" style=\"left: 342px; height: 83.72503646567282px;\"></div><div class=\"CTPFVNB-w-x CTPFVNB-w-M\" style=\"left: 348px; height: 85.04056960617073px;\"></div><div class=\"CTPFVNB-w-x\" style=\"left: 354px; height: 79.79416054785038px;\"></div><div class=\"CTPFVNB-w-L\" style=\"left: 11px;\"></div><div class=\"CTPFVNB-w-L\" style=\"left: 53px;\"></div><div class=\"CTPFVNB-w-L\" style=\"left: 95px;\"></div><div class=\"CTPFVNB-w-L\" style=\"left: 137px;\"></div><div class=\"CTPFVNB-w-L\" style=\"left: 179px;\"></div><div class=\"CTPFVNB-w-L\" style=\"left: 221px;\"></div><div class=\"CTPFVNB-w-L\" style=\"left: 263px;\"></div><div class=\"CTPFVNB-w-L\" style=\"left: 305px;\"></div><div class=\"CTPFVNB-w-L\" style=\"left: 347px;\"></div><div aria-hidden=\"true\" class=\"CTPFVNB-w-J\" style=\"display: none;\"></div><div aria-hidden=\"true\" class=\"CTPFVNB-w-K\" style=\"display: none;\"></div></div>,\n",
       " <div class=\"CTPFVNB-w-o CTPFVNB-w-b\"><div class=\"CTPFVNB-w-x\" style=\"left: 0px; height: 106px;\"></div><div class=\"CTPFVNB-w-x CTPFVNB-w-M\" style=\"left: 6px; height: 99.58295964125561px;\"></div><div class=\"CTPFVNB-w-x CTPFVNB-w-M\" style=\"left: 12px; height: 102.19730941704036px;\"></div><div class=\"CTPFVNB-w-x\" style=\"left: 18px; height: 102.19730941704036px;\"></div><div class=\"CTPFVNB-w-x\" style=\"left: 24px; height: 102.19730941704036px;\"></div><div class=\"CTPFVNB-w-x\" style=\"left: 30px; height: 91.73991031390133px;\"></div><div class=\"CTPFVNB-w-x\" style=\"left: 36px; height: 91.02690582959642px;\"></div><div class=\"CTPFVNB-w-x\" style=\"left: 42px; height: 85.79820627802691px;\"></div><div class=\"CTPFVNB-w-x CTPFVNB-w-M\" style=\"left: 48px; height: 85.79820627802691px;\"></div><div class=\"CTPFVNB-w-x CTPFVNB-w-M\" style=\"left: 54px; height: 86.74887892376682px;\"></div><div class=\"CTPFVNB-w-x\" style=\"left: 60px; height: 85.79820627802691px;\"></div><div class=\"CTPFVNB-w-x\" style=\"left: 66px; height: 85.79820627802691px;\"></div><div class=\"CTPFVNB-w-x\" style=\"left: 72px; height: 79.14349775784754px;\"></div><div class=\"CTPFVNB-w-x\" style=\"left: 78px; height: 92.2152466367713px;\"></div><div class=\"CTPFVNB-w-x\" style=\"left: 84px; height: 103.8609865470852px;\"></div><div class=\"CTPFVNB-w-x CTPFVNB-w-M\" style=\"left: 90px; height: 77.95515695067265px;\"></div><div class=\"CTPFVNB-w-x CTPFVNB-w-M\" style=\"left: 96px; height: 74.62780269058297px;\"></div><div class=\"CTPFVNB-w-x\" style=\"left: 102px; height: 74.39013452914799px;\"></div><div class=\"CTPFVNB-w-x\" style=\"left: 108px; height: 78.90582959641256px;\"></div><div class=\"CTPFVNB-w-x\" style=\"left: 114px; height: 65.35874439461884px;\"></div><div class=\"CTPFVNB-w-x\" style=\"left: 120px; height: 65.5964125560538px;\"></div><div class=\"CTPFVNB-w-x\" style=\"left: 126px; height: 65.5964125560538px;\"></div><div class=\"CTPFVNB-w-x CTPFVNB-w-M\" style=\"left: 132px; height: 62.506726457399104px;\"></div><div class=\"CTPFVNB-w-x CTPFVNB-w-M\" style=\"left: 138px; height: 71.53811659192824px;\"></div><div class=\"CTPFVNB-w-x\" style=\"left: 144px; height: 62.506726457399104px;\"></div><div class=\"CTPFVNB-w-x CTPFVNB-w-f\" style=\"left: 150px; height: 62.26905829596413px;\"></div><div class=\"CTPFVNB-w-x\" style=\"left: 156px; height: 62.26905829596413px;\"></div><div class=\"CTPFVNB-w-x\" style=\"left: 162px; height: 62.506726457399104px;\"></div><div class=\"CTPFVNB-w-x\" style=\"left: 168px; height: 77.4798206278027px;\"></div><div class=\"CTPFVNB-w-x CTPFVNB-w-M\" style=\"left: 174px; height: 62.506726457399104px;\"></div><div class=\"CTPFVNB-w-x CTPFVNB-w-M\" style=\"left: 180px; height: 77.4798206278027px;\"></div><div class=\"CTPFVNB-w-x\" style=\"left: 186px; height: 77.4798206278027px;\"></div><div class=\"CTPFVNB-w-x\" style=\"left: 192px; height: 65.5964125560538px;\"></div><div class=\"CTPFVNB-w-x\" style=\"left: 198px; height: 65.5964125560538px;\"></div><div class=\"CTPFVNB-w-x\" style=\"left: 204px; height: 77.4798206278027px;\"></div><div class=\"CTPFVNB-w-x\" style=\"left: 210px; height: 82.94618834080718px;\"></div><div class=\"CTPFVNB-w-x CTPFVNB-w-M\" style=\"left: 216px; height: 65.5964125560538px;\"></div><div class=\"CTPFVNB-w-x CTPFVNB-w-M\" style=\"left: 222px; height: 77.4798206278027px;\"></div><div class=\"CTPFVNB-w-x\" style=\"left: 228px; height: 81.75784753363229px;\"></div><div class=\"CTPFVNB-w-x\" style=\"left: 234px; height: 86.98654708520179px;\"></div><div class=\"CTPFVNB-w-x\" style=\"left: 240px; height: 74.7965470852018px;\"></div><div class=\"CTPFVNB-w-x\" style=\"left: 246px; height: 74.7965470852018px;\"></div><div class=\"CTPFVNB-w-x\" style=\"left: 252px; height: 77.4798206278027px;\"></div><div class=\"CTPFVNB-w-x CTPFVNB-w-M\" style=\"left: 258px; height: 79.14349775784754px;\"></div><div class=\"CTPFVNB-w-x CTPFVNB-w-M\" style=\"left: 264px; height: 90.55156950672647px;\"></div><div class=\"CTPFVNB-w-x\" style=\"left: 270px; height: 98.39461883408072px;\"></div><div class=\"CTPFVNB-w-x\" style=\"left: 276px; height: 74.86547085201794px;\"></div><div class=\"CTPFVNB-w-x\" style=\"left: 282px; height: 80.80717488789237px;\"></div><div class=\"CTPFVNB-w-x\" style=\"left: 288px; height: 86.03587443946188px;\"></div><div class=\"CTPFVNB-w-x\" style=\"left: 294px; height: 80.56950672645739px;\"></div><div class=\"CTPFVNB-w-x CTPFVNB-w-M\" style=\"left: 300px; height: 86.51121076233184px;\"></div><div class=\"CTPFVNB-w-x CTPFVNB-w-M\" style=\"left: 306px; height: 91.02690582959642px;\"></div><div class=\"CTPFVNB-w-x\" style=\"left: 312px; height: 89.42502242152467px;\"></div><div class=\"CTPFVNB-w-x\" style=\"left: 318px; height: 78.61112107623319px;\"></div><div class=\"CTPFVNB-w-x\" style=\"left: 324px; height: 77.00448430493273px;\"></div><div class=\"CTPFVNB-w-x\" style=\"left: 330px; height: 77.00448430493273px;\"></div><div class=\"CTPFVNB-w-x\" style=\"left: 336px; height: 81.99551569506727px;\"></div><div class=\"CTPFVNB-w-x CTPFVNB-w-M\" style=\"left: 342px; height: 86.03587443946188px;\"></div><div class=\"CTPFVNB-w-x CTPFVNB-w-M\" style=\"left: 348px; height: 77.95515695067265px;\"></div><div class=\"CTPFVNB-w-x\" style=\"left: 354px; height: 74.62780269058297px;\"></div><div class=\"CTPFVNB-w-L\" style=\"left: 11px;\"></div><div class=\"CTPFVNB-w-L\" style=\"left: 53px;\"></div><div class=\"CTPFVNB-w-L\" style=\"left: 95px;\"></div><div class=\"CTPFVNB-w-L\" style=\"left: 137px;\"></div><div class=\"CTPFVNB-w-L\" style=\"left: 179px;\"></div><div class=\"CTPFVNB-w-L\" style=\"left: 221px;\"></div><div class=\"CTPFVNB-w-L\" style=\"left: 263px;\"></div><div class=\"CTPFVNB-w-L\" style=\"left: 305px;\"></div><div class=\"CTPFVNB-w-L\" style=\"left: 347px;\"></div><div aria-hidden=\"true\" class=\"CTPFVNB-w-J\" style=\"display: none;\"></div><div aria-hidden=\"true\" class=\"CTPFVNB-w-K\" style=\"display: none;\"></div></div>,\n",
       " <div class=\"CTPFVNB-w-o CTPFVNB-w-b\"><div class=\"CTPFVNB-w-x\" style=\"left: 0px; height: 106px;\"></div><div class=\"CTPFVNB-w-x CTPFVNB-w-f CTPFVNB-w-M\" style=\"left: 6px; height: 53.06988209665399px;\"></div><div class=\"CTPFVNB-w-x CTPFVNB-w-M\" style=\"left: 12px; height: 53.06988209665399px;\"></div><div class=\"CTPFVNB-w-x\" style=\"left: 18px; height: 95.0619326976362px;\"></div><div class=\"CTPFVNB-w-x\" style=\"left: 24px; height: 95.0619326976362px;\"></div><div class=\"CTPFVNB-w-x\" style=\"left: 30px; height: 53.06988209665399px;\"></div><div class=\"CTPFVNB-w-x\" style=\"left: 36px; height: 53.06988209665399px;\"></div><div class=\"CTPFVNB-w-x\" style=\"left: 42px; height: 86.95966062181117px;\"></div><div class=\"CTPFVNB-w-x CTPFVNB-w-M\" style=\"left: 48px; height: 53.942901912824134px;\"></div><div class=\"CTPFVNB-w-x CTPFVNB-w-M\" style=\"left: 54px; height: 88.3471747147962px;\"></div><div class=\"CTPFVNB-w-x\" style=\"left: 60px; height: 86.95966062181117px;\"></div><div class=\"CTPFVNB-w-x\" style=\"left: 66px; height: 53.06988209665399px;\"></div><div class=\"CTPFVNB-w-x\" style=\"left: 72px; height: 86.95966062181117px;\"></div><div class=\"CTPFVNB-w-x\" style=\"left: 78px; height: 80.24895377500907px;\"></div><div class=\"CTPFVNB-w-x\" style=\"left: 84px; height: 98.27448357570083px;\"></div><div class=\"CTPFVNB-w-x CTPFVNB-w-M\" style=\"left: 90px; height: 55.33041600580917px;\"></div><div class=\"CTPFVNB-w-x CTPFVNB-w-M\" style=\"left: 96px; height: 53.06988209665399px;\"></div><div class=\"CTPFVNB-w-x\" style=\"left: 102px; height: 93.17612887198791px;\"></div><div class=\"CTPFVNB-w-x\" style=\"left: 108px; height: 53.06988209665399px;\"></div><div class=\"CTPFVNB-w-x\" style=\"left: 114px; height: 53.06988209665399px;\"></div><div class=\"CTPFVNB-w-x\" style=\"left: 120px; height: 53.06988209665399px;\"></div><div class=\"CTPFVNB-w-x\" style=\"left: 126px; height: 72.78068448911735px;\"></div><div class=\"CTPFVNB-w-x CTPFVNB-w-M\" style=\"left: 132px; height: 53.942901912824134px;\"></div><div class=\"CTPFVNB-w-x CTPFVNB-w-M\" style=\"left: 138px; height: 55.70312052129712px;\"></div><div class=\"CTPFVNB-w-x\" style=\"left: 144px; height: 53.942901912824134px;\"></div><div class=\"CTPFVNB-w-x\" style=\"left: 150px; height: 53.06988209665399px;\"></div><div class=\"CTPFVNB-w-x\" style=\"left: 156px; height: 53.942901912824134px;\"></div><div class=\"CTPFVNB-w-x\" style=\"left: 162px; height: 53.942901912824134px;\"></div><div class=\"CTPFVNB-w-x\" style=\"left: 168px; height: 55.70312052129712px;\"></div><div class=\"CTPFVNB-w-x CTPFVNB-w-M\" style=\"left: 174px; height: 53.06988209665399px;\"></div><div class=\"CTPFVNB-w-x CTPFVNB-w-M\" style=\"left: 180px; height: 53.06988209665399px;\"></div><div class=\"CTPFVNB-w-x\" style=\"left: 186px; height: 55.70312052129712px;\"></div><div class=\"CTPFVNB-w-x\" style=\"left: 192px; height: 53.942901912824134px;\"></div><div class=\"CTPFVNB-w-x\" style=\"left: 198px; height: 53.06988209665399px;\"></div><div class=\"CTPFVNB-w-x\" style=\"left: 204px; height: 55.70312052129712px;\"></div><div class=\"CTPFVNB-w-x\" style=\"left: 210px; height: 72.78068448911735px;\"></div><div class=\"CTPFVNB-w-x CTPFVNB-w-M\" style=\"left: 216px; height: 72.78068448911735px;\"></div><div class=\"CTPFVNB-w-x CTPFVNB-w-M\" style=\"left: 222px; height: 72.78068448911735px;\"></div><div class=\"CTPFVNB-w-x\" style=\"left: 228px; height: 72.78068448911735px;\"></div><div class=\"CTPFVNB-w-x\" style=\"left: 234px; height: 55.33446714184709px;\"></div><div class=\"CTPFVNB-w-x\" style=\"left: 240px; height: 72.78068448911735px;\"></div><div class=\"CTPFVNB-w-x\" style=\"left: 246px; height: 72.78068448911735px;\"></div><div class=\"CTPFVNB-w-x\" style=\"left: 252px; height: 73.61116737688943px;\"></div><div class=\"CTPFVNB-w-x CTPFVNB-w-M\" style=\"left: 258px; height: 72.78068448911735px;\"></div><div class=\"CTPFVNB-w-x CTPFVNB-w-M\" style=\"left: 264px; height: 86.95966062181117px;\"></div><div class=\"CTPFVNB-w-x\" style=\"left: 270px; height: 91.61846706541056px;\"></div><div class=\"CTPFVNB-w-x\" style=\"left: 276px; height: 91.61846706541056px;\"></div><div class=\"CTPFVNB-w-x\" style=\"left: 282px; height: 91.61846706541056px;\"></div><div class=\"CTPFVNB-w-x\" style=\"left: 288px; height: 72.78068448911735px;\"></div><div class=\"CTPFVNB-w-x\" style=\"left: 294px; height: 94.18891288146605px;\"></div><div class=\"CTPFVNB-w-x CTPFVNB-w-M\" style=\"left: 300px; height: 72.78068448911735px;\"></div><div class=\"CTPFVNB-w-x CTPFVNB-w-M\" style=\"left: 306px; height: 86.95966062181117px;\"></div><div class=\"CTPFVNB-w-x\" style=\"left: 312px; height: 55.70312052129712px;\"></div><div class=\"CTPFVNB-w-x\" style=\"left: 318px; height: 72.78068448911735px;\"></div><div class=\"CTPFVNB-w-x\" style=\"left: 324px; height: 72.78068448911735px;\"></div><div class=\"CTPFVNB-w-x\" style=\"left: 330px; height: 53.942901912824134px;\"></div><div class=\"CTPFVNB-w-x\" style=\"left: 336px; height: 72.78068448911735px;\"></div><div class=\"CTPFVNB-w-x CTPFVNB-w-M\" style=\"left: 342px; height: 78.85738854598613px;\"></div><div class=\"CTPFVNB-w-x CTPFVNB-w-M\" style=\"left: 348px; height: 72.78068448911735px;\"></div><div class=\"CTPFVNB-w-x\" style=\"left: 354px; height: 91.61846706541056px;\"></div><div class=\"CTPFVNB-w-L\" style=\"left: 11px;\"></div><div class=\"CTPFVNB-w-L\" style=\"left: 53px;\"></div><div class=\"CTPFVNB-w-L\" style=\"left: 95px;\"></div><div class=\"CTPFVNB-w-L\" style=\"left: 137px;\"></div><div class=\"CTPFVNB-w-L\" style=\"left: 179px;\"></div><div class=\"CTPFVNB-w-L\" style=\"left: 221px;\"></div><div class=\"CTPFVNB-w-L\" style=\"left: 263px;\"></div><div class=\"CTPFVNB-w-L\" style=\"left: 305px;\"></div><div class=\"CTPFVNB-w-L\" style=\"left: 347px;\"></div><div aria-hidden=\"true\" class=\"CTPFVNB-w-J\" style=\"display: none;\"></div><div aria-hidden=\"true\" class=\"CTPFVNB-w-K\" style=\"display: none;\"></div></div>,\n",
       " <div class=\"CTPFVNB-w-o CTPFVNB-w-b\"><div class=\"CTPFVNB-w-x\" style=\"left: 0px; height: 76.75518384718167px;\"></div><div class=\"CTPFVNB-w-x CTPFVNB-w-f CTPFVNB-w-M\" style=\"left: 6px; height: 76.3617558271886px;\"></div><div class=\"CTPFVNB-w-x CTPFVNB-w-M\" style=\"left: 12px; height: 76.75518384718167px;\"></div><div class=\"CTPFVNB-w-x\" style=\"left: 18px; height: 76.75518384718167px;\"></div><div class=\"CTPFVNB-w-x\" style=\"left: 24px; height: 76.75518384718167px;\"></div><div class=\"CTPFVNB-w-x\" style=\"left: 30px; height: 76.75518384718167px;\"></div><div class=\"CTPFVNB-w-x\" style=\"left: 36px; height: 76.75518384718167px;\"></div><div class=\"CTPFVNB-w-x\" style=\"left: 42px; height: 76.75518384718167px;\"></div><div class=\"CTPFVNB-w-x CTPFVNB-w-M\" style=\"left: 48px; height: 77.96956500222694px;\"></div><div class=\"CTPFVNB-w-x CTPFVNB-w-M\" style=\"left: 54px; height: 87.75543128618796px;\"></div><div class=\"CTPFVNB-w-x\" style=\"left: 60px; height: 77.96169644182709px;\"></div><div class=\"CTPFVNB-w-x\" style=\"left: 66px; height: 76.75518384718167px;\"></div><div class=\"CTPFVNB-w-x\" style=\"left: 72px; height: 77.96169644182709px;\"></div><div class=\"CTPFVNB-w-x\" style=\"left: 78px; height: 106px;\"></div><div class=\"CTPFVNB-w-x\" style=\"left: 84px; height: 105.17642401148117px;\"></div><div class=\"CTPFVNB-w-x CTPFVNB-w-M\" style=\"left: 90px; height: 87.75543128618796px;\"></div><div class=\"CTPFVNB-w-x CTPFVNB-w-M\" style=\"left: 96px; height: 92.84901271836493px;\"></div><div class=\"CTPFVNB-w-x\" style=\"left: 102px; height: 96.55772752016628px;\"></div><div class=\"CTPFVNB-w-x\" style=\"left: 108px; height: 85.24273766516554px;\"></div><div class=\"CTPFVNB-w-x\" style=\"left: 114px; height: 81.3451774137675px;\"></div><div class=\"CTPFVNB-w-x\" style=\"left: 120px; height: 76.49289850051962px;\"></div><div class=\"CTPFVNB-w-x\" style=\"left: 126px; height: 81.3451774137675px;\"></div><div class=\"CTPFVNB-w-x CTPFVNB-w-M\" style=\"left: 132px; height: 76.49289850051962px;\"></div><div class=\"CTPFVNB-w-x CTPFVNB-w-M\" style=\"left: 138px; height: 81.3451774137675px;\"></div><div class=\"CTPFVNB-w-x\" style=\"left: 144px; height: 76.49289850051962px;\"></div><div class=\"CTPFVNB-w-x\" style=\"left: 150px; height: 81.3451774137675px;\"></div><div class=\"CTPFVNB-w-x\" style=\"left: 156px; height: 81.83302815855892px;\"></div><div class=\"CTPFVNB-w-x\" style=\"left: 162px; height: 82.68545553521058px;\"></div><div class=\"CTPFVNB-w-x\" style=\"left: 168px; height: 81.3451774137675px;\"></div><div class=\"CTPFVNB-w-x CTPFVNB-w-M\" style=\"left: 174px; height: 81.3451774137675px;\"></div><div class=\"CTPFVNB-w-x CTPFVNB-w-M\" style=\"left: 180px; height: 81.3451774137675px;\"></div><div class=\"CTPFVNB-w-x\" style=\"left: 186px; height: 81.3451774137675px;\"></div><div class=\"CTPFVNB-w-x\" style=\"left: 192px; height: 81.73860543376057px;\"></div><div class=\"CTPFVNB-w-x\" style=\"left: 198px; height: 86.59088434700847px;\"></div><div class=\"CTPFVNB-w-x\" style=\"left: 204px; height: 86.59088434700847px;\"></div><div class=\"CTPFVNB-w-x\" style=\"left: 210px; height: 81.73860543376057px;\"></div><div class=\"CTPFVNB-w-x CTPFVNB-w-M\" style=\"left: 216px; height: 81.73860543376057px;\"></div><div class=\"CTPFVNB-w-x CTPFVNB-w-M\" style=\"left: 222px; height: 81.73860543376057px;\"></div><div class=\"CTPFVNB-w-x\" style=\"left: 228px; height: 81.73860543376057px;\"></div><div class=\"CTPFVNB-w-x\" style=\"left: 234px; height: 81.73860543376057px;\"></div><div class=\"CTPFVNB-w-x\" style=\"left: 240px; height: 86.59088434700847px;\"></div><div class=\"CTPFVNB-w-x\" style=\"left: 246px; height: 85.24273766516554px;\"></div><div class=\"CTPFVNB-w-x\" style=\"left: 252px; height: 99.66843173157817px;\"></div><div class=\"CTPFVNB-w-x CTPFVNB-w-M\" style=\"left: 258px; height: 85.24273766516554px;\"></div><div class=\"CTPFVNB-w-x CTPFVNB-w-M\" style=\"left: 264px; height: 86.59088434700847px;\"></div><div class=\"CTPFVNB-w-x\" style=\"left: 270px; height: 86.59088434700847px;\"></div><div class=\"CTPFVNB-w-x\" style=\"left: 276px; height: 81.73860543376057px;\"></div><div class=\"CTPFVNB-w-x\" style=\"left: 282px; height: 80.50061859751571px;\"></div><div class=\"CTPFVNB-w-x\" style=\"left: 288px; height: 81.73860543376057px;\"></div><div class=\"CTPFVNB-w-x\" style=\"left: 294px; height: 96.1642995001732px;\"></div><div class=\"CTPFVNB-w-x CTPFVNB-w-M\" style=\"left: 300px; height: 96.1642995001732px;\"></div><div class=\"CTPFVNB-w-x CTPFVNB-w-M\" style=\"left: 306px; height: 96.1642995001732px;\"></div><div class=\"CTPFVNB-w-x\" style=\"left: 312px; height: 85.24273766516554px;\"></div><div class=\"CTPFVNB-w-x\" style=\"left: 318px; height: 81.73860543376057px;\"></div><div class=\"CTPFVNB-w-x\" style=\"left: 324px; height: 81.73860543376057px;\"></div><div class=\"CTPFVNB-w-x\" style=\"left: 330px; height: 81.73860543376057px;\"></div><div class=\"CTPFVNB-w-x\" style=\"left: 336px; height: 81.73860543376057px;\"></div><div class=\"CTPFVNB-w-x CTPFVNB-w-M\" style=\"left: 342px; height: 81.73860543376057px;\"></div><div class=\"CTPFVNB-w-x CTPFVNB-w-M\" style=\"left: 348px; height: 99.04943831345574px;\"></div><div class=\"CTPFVNB-w-x\" style=\"left: 354px; height: 76.8863265205127px;\"></div><div class=\"CTPFVNB-w-L\" style=\"left: 11px;\"></div><div class=\"CTPFVNB-w-L\" style=\"left: 53px;\"></div><div class=\"CTPFVNB-w-L\" style=\"left: 95px;\"></div><div class=\"CTPFVNB-w-L\" style=\"left: 137px;\"></div><div class=\"CTPFVNB-w-L\" style=\"left: 179px;\"></div><div class=\"CTPFVNB-w-L\" style=\"left: 221px;\"></div><div class=\"CTPFVNB-w-L\" style=\"left: 263px;\"></div><div class=\"CTPFVNB-w-L\" style=\"left: 305px;\"></div><div class=\"CTPFVNB-w-L\" style=\"left: 347px;\"></div><div aria-hidden=\"true\" class=\"CTPFVNB-w-J\" style=\"display: none;\"></div><div aria-hidden=\"true\" class=\"CTPFVNB-w-K\" style=\"display: none;\"></div></div>,\n",
       " <div class=\"CTPFVNB-w-o CTPFVNB-w-b\"><div class=\"CTPFVNB-w-x\" style=\"left: 0px; height: 73.37907455777112px;\"></div><div class=\"CTPFVNB-w-x CTPFVNB-w-M\" style=\"left: 6px; height: 73.37907455777112px;\"></div><div class=\"CTPFVNB-w-x CTPFVNB-w-M\" style=\"left: 12px; height: 73.37907455777112px;\"></div><div class=\"CTPFVNB-w-x\" style=\"left: 18px; height: 73.37907455777112px;\"></div><div class=\"CTPFVNB-w-x\" style=\"left: 24px; height: 73.37907455777112px;\"></div><div class=\"CTPFVNB-w-x\" style=\"left: 30px; height: 73.37907455777112px;\"></div><div class=\"CTPFVNB-w-x\" style=\"left: 36px; height: 76.98286296744601px;\"></div><div class=\"CTPFVNB-w-x\" style=\"left: 42px; height: 75.1820942430613px;\"></div><div class=\"CTPFVNB-w-x CTPFVNB-w-M\" style=\"left: 48px; height: 76.53267078634983px;\"></div><div class=\"CTPFVNB-w-x CTPFVNB-w-M\" style=\"left: 54px; height: 73.8517763479221px;\"></div><div class=\"CTPFVNB-w-x\" style=\"left: 60px; height: 73.8517763479221px;\"></div><div class=\"CTPFVNB-w-x\" style=\"left: 66px; height: 73.37907455777112px;\"></div><div class=\"CTPFVNB-w-x\" style=\"left: 72px; height: 99.7153171518974px;\"></div><div class=\"CTPFVNB-w-x\" style=\"left: 78px; height: 106px;\"></div><div class=\"CTPFVNB-w-x\" style=\"left: 84px; height: 74.73190206196513px;\"></div><div class=\"CTPFVNB-w-x CTPFVNB-w-M\" style=\"left: 90px; height: 79.04924507867744px;\"></div><div class=\"CTPFVNB-w-x CTPFVNB-w-M\" style=\"left: 96px; height: 73.40158416682594px;\"></div><div class=\"CTPFVNB-w-x\" style=\"left: 102px; height: 88.2376674948504px;\"></div><div class=\"CTPFVNB-w-x\" style=\"left: 108px; height: 87.78747531375421px;\"></div><div class=\"CTPFVNB-w-x\" style=\"left: 114px; height: 92.28939712471598px;\"></div><div class=\"CTPFVNB-w-x\" style=\"left: 120px; height: 83.96084177443673px;\"></div><div class=\"CTPFVNB-w-x CTPFVNB-w-f\" style=\"left: 126px; height: 72.47869019557878px;\"></div><div class=\"CTPFVNB-w-x CTPFVNB-w-M\" style=\"left: 132px; height: 91.61410885307171px;\"></div><div class=\"CTPFVNB-w-x CTPFVNB-w-M\" style=\"left: 138px; height: 88.2376674948504px;\"></div><div class=\"CTPFVNB-w-x\" style=\"left: 144px; height: 76.08247860525367px;\"></div><div class=\"CTPFVNB-w-x\" style=\"left: 150px; height: 74.73190206196513px;\"></div><div class=\"CTPFVNB-w-x\" style=\"left: 156px; height: 76.30757469580175px;\"></div><div class=\"CTPFVNB-w-x\" style=\"left: 162px; height: 81.70762990805038px;\"></div><div class=\"CTPFVNB-w-x\" style=\"left: 168px; height: 72.47869019557878px;\"></div><div class=\"CTPFVNB-w-x CTPFVNB-w-M\" style=\"left: 174px; height: 73.40158416682594px;\"></div><div class=\"CTPFVNB-w-x CTPFVNB-w-M\" style=\"left: 180px; height: 72.47869019557878px;\"></div><div class=\"CTPFVNB-w-x\" style=\"left: 186px; height: 72.47869019557878px;\"></div><div class=\"CTPFVNB-w-x\" style=\"left: 192px; height: 81.70762990805038px;\"></div><div class=\"CTPFVNB-w-x\" style=\"left: 198px; height: 88.46051262449299px;\"></div><div class=\"CTPFVNB-w-x\" style=\"left: 204px; height: 101.96852901828375px;\"></div><div class=\"CTPFVNB-w-x\" style=\"left: 210px; height: 74.73190206196513px;\"></div><div class=\"CTPFVNB-w-x CTPFVNB-w-M\" style=\"left: 216px; height: 91.38901276252363px;\"></div><div class=\"CTPFVNB-w-x CTPFVNB-w-M\" style=\"left: 222px; height: 88.46051262449299px;\"></div><div class=\"CTPFVNB-w-x\" style=\"left: 228px; height: 83.96084177443673px;\"></div><div class=\"CTPFVNB-w-x\" style=\"left: 234px; height: 89.81334012868702px;\"></div><div class=\"CTPFVNB-w-x\" style=\"left: 240px; height: 85.31141831772526px;\"></div><div class=\"CTPFVNB-w-x\" style=\"left: 246px; height: 90.71372449087936px;\"></div><div class=\"CTPFVNB-w-x\" style=\"left: 252px; height: 92.96468539636024px;\"></div><div class=\"CTPFVNB-w-x CTPFVNB-w-M\" style=\"left: 258px; height: 90.71372449087936px;\"></div><div class=\"CTPFVNB-w-x CTPFVNB-w-M\" style=\"left: 264px; height: 92.96468539636024px;\"></div><div class=\"CTPFVNB-w-x\" style=\"left: 270px; height: 97.35180820114246px;\"></div><div class=\"CTPFVNB-w-x\" style=\"left: 276px; height: 89.38340659574015px;\"></div><div class=\"CTPFVNB-w-x\" style=\"left: 282px; height: 92.06430103416788px;\"></div><div class=\"CTPFVNB-w-x\" style=\"left: 288px; height: 95.66583848293729px;\"></div><div class=\"CTPFVNB-w-x\" style=\"left: 294px; height: 97.2415111167739px;\"></div><div class=\"CTPFVNB-w-x CTPFVNB-w-M\" style=\"left: 300px; height: 100.63821112314454px;\"></div><div class=\"CTPFVNB-w-x CTPFVNB-w-M\" style=\"left: 306px; height: 90.30630056698733px;\"></div><div class=\"CTPFVNB-w-x\" style=\"left: 312px; height: 76.08247860525367px;\"></div><div class=\"CTPFVNB-w-x\" style=\"left: 318px; height: 95.66583848293729px;\"></div><div class=\"CTPFVNB-w-x\" style=\"left: 324px; height: 81.70762990805038px;\"></div><div class=\"CTPFVNB-w-x\" style=\"left: 330px; height: 82.63052387929753px;\"></div><div class=\"CTPFVNB-w-x\" style=\"left: 336px; height: 76.98286296744601px;\"></div><div class=\"CTPFVNB-w-x CTPFVNB-w-M\" style=\"left: 342px; height: 74.32447813807309px;\"></div><div class=\"CTPFVNB-w-x CTPFVNB-w-M\" style=\"left: 348px; height: 72.47869019557878px;\"></div><div class=\"CTPFVNB-w-x\" style=\"left: 354px; height: 72.47869019557878px;\"></div><div class=\"CTPFVNB-w-L\" style=\"left: 11px;\"></div><div class=\"CTPFVNB-w-L\" style=\"left: 53px;\"></div><div class=\"CTPFVNB-w-L\" style=\"left: 95px;\"></div><div class=\"CTPFVNB-w-L\" style=\"left: 137px;\"></div><div class=\"CTPFVNB-w-L\" style=\"left: 179px;\"></div><div class=\"CTPFVNB-w-L\" style=\"left: 221px;\"></div><div class=\"CTPFVNB-w-L\" style=\"left: 263px;\"></div><div class=\"CTPFVNB-w-L\" style=\"left: 305px;\"></div><div class=\"CTPFVNB-w-L\" style=\"left: 347px;\"></div><div aria-hidden=\"true\" class=\"CTPFVNB-w-J\" style=\"display: none;\"></div><div aria-hidden=\"true\" class=\"CTPFVNB-w-K\" style=\"display: none;\"></div></div>,\n",
       " <div class=\"CTPFVNB-w-o CTPFVNB-w-b\"><div class=\"CTPFVNB-w-x\" style=\"left: 0px; height: 87.9192879256966px;\"></div><div class=\"CTPFVNB-w-x CTPFVNB-w-M\" style=\"left: 6px; height: 103.21052631578948px;\"></div><div class=\"CTPFVNB-w-x CTPFVNB-w-M\" style=\"left: 12px; height: 93.66232198142416px;\"></div><div class=\"CTPFVNB-w-x\" style=\"left: 18px; height: 98.5849226006192px;\"></div><div class=\"CTPFVNB-w-x\" style=\"left: 24px; height: 106px;\"></div><div class=\"CTPFVNB-w-x\" style=\"left: 30px; height: 101.30876160990712px;\"></div><div class=\"CTPFVNB-w-x\" style=\"left: 36px; height: 92.84188854489163px;\"></div><div class=\"CTPFVNB-w-x\" style=\"left: 42px; height: 92.02145510835913px;\"></div><div class=\"CTPFVNB-w-x CTPFVNB-w-M\" style=\"left: 48px; height: 96.15479876160991px;\"></div><div class=\"CTPFVNB-w-x CTPFVNB-w-M\" style=\"left: 54px; height: 95.3343653250774px;\"></div><div class=\"CTPFVNB-w-x\" style=\"left: 60px; height: 96.81114551083591px;\"></div><div class=\"CTPFVNB-w-x\" style=\"left: 66px; height: 96.81114551083591px;\"></div><div class=\"CTPFVNB-w-x\" style=\"left: 72px; height: 90.23291021671827px;\"></div><div class=\"CTPFVNB-w-x\" style=\"left: 78px; height: 90.72517027863776px;\"></div><div class=\"CTPFVNB-w-x\" style=\"left: 84px; height: 77.61300309597523px;\"></div><div class=\"CTPFVNB-w-x CTPFVNB-w-M\" style=\"left: 90px; height: 77.61300309597523px;\"></div><div class=\"CTPFVNB-w-x CTPFVNB-w-M\" style=\"left: 96px; height: 76.38399380804954px;\"></div><div class=\"CTPFVNB-w-x\" style=\"left: 102px; height: 75.71123839009289px;\"></div><div class=\"CTPFVNB-w-x\" style=\"left: 108px; height: 78.99297213622292px;\"></div><div class=\"CTPFVNB-w-x\" style=\"left: 114px; height: 60.94343653250773px;\"></div><div class=\"CTPFVNB-w-x\" style=\"left: 120px; height: 60.94343653250773px;\"></div><div class=\"CTPFVNB-w-x\" style=\"left: 126px; height: 64.22517027863776px;\"></div><div class=\"CTPFVNB-w-x CTPFVNB-w-M\" style=\"left: 132px; height: 61.53250773993808px;\"></div><div class=\"CTPFVNB-w-x CTPFVNB-w-M\" style=\"left: 138px; height: 56.93808049535603px;\"></div><div class=\"CTPFVNB-w-x CTPFVNB-w-f\" style=\"left: 144px; height: 55.78947368421052px;\"></div><div class=\"CTPFVNB-w-x\" style=\"left: 150px; height: 59.56346749226007px;\"></div><div class=\"CTPFVNB-w-x\" style=\"left: 156px; height: 59.23529411764706px;\"></div><div class=\"CTPFVNB-w-x\" style=\"left: 162px; height: 59.23529411764706px;\"></div><div class=\"CTPFVNB-w-x\" style=\"left: 168px; height: 59.23529411764706px;\"></div><div class=\"CTPFVNB-w-x CTPFVNB-w-M\" style=\"left: 174px; height: 59.07120743034056px;\"></div><div class=\"CTPFVNB-w-x CTPFVNB-w-M\" style=\"left: 180px; height: 59.23529411764706px;\"></div><div class=\"CTPFVNB-w-x\" style=\"left: 186px; height: 57.594427244582036px;\"></div><div class=\"CTPFVNB-w-x\" style=\"left: 192px; height: 59.56346749226007px;\"></div><div class=\"CTPFVNB-w-x\" style=\"left: 198px; height: 60.94343653250773px;\"></div><div class=\"CTPFVNB-w-x\" style=\"left: 204px; height: 60.94343653250773px;\"></div><div class=\"CTPFVNB-w-x\" style=\"left: 210px; height: 65.79876160990712px;\"></div><div class=\"CTPFVNB-w-x CTPFVNB-w-M\" style=\"left: 216px; height: 63.5015479876161px;\"></div><div class=\"CTPFVNB-w-x CTPFVNB-w-M\" style=\"left: 222px; height: 57.594427244582036px;\"></div><div class=\"CTPFVNB-w-x\" style=\"left: 228px; height: 60.94343653250773px;\"></div><div class=\"CTPFVNB-w-x\" style=\"left: 234px; height: 61.36842105263158px;\"></div><div class=\"CTPFVNB-w-x\" style=\"left: 240px; height: 60.94343653250773px;\"></div><div class=\"CTPFVNB-w-x\" style=\"left: 246px; height: 60.94343653250773px;\"></div><div class=\"CTPFVNB-w-x\" style=\"left: 252px; height: 67.43962848297214px;\"></div><div class=\"CTPFVNB-w-x CTPFVNB-w-M\" style=\"left: 258px; height: 64.22517027863776px;\"></div><div class=\"CTPFVNB-w-x CTPFVNB-w-M\" style=\"left: 264px; height: 66.3582972136223px;\"></div><div class=\"CTPFVNB-w-x\" style=\"left: 270px; height: 60.94343653250773px;\"></div><div class=\"CTPFVNB-w-x\" style=\"left: 276px; height: 64.47130030959752px;\"></div><div class=\"CTPFVNB-w-x\" style=\"left: 282px; height: 60.94343653250773px;\"></div><div class=\"CTPFVNB-w-x\" style=\"left: 288px; height: 60.94343653250773px;\"></div><div class=\"CTPFVNB-w-x\" style=\"left: 294px; height: 69.39390092879258px;\"></div><div class=\"CTPFVNB-w-x CTPFVNB-w-M\" style=\"left: 300px; height: 69.96820433436532px;\"></div><div class=\"CTPFVNB-w-x CTPFVNB-w-M\" style=\"left: 306px; height: 58.414860681114554px;\"></div><div class=\"CTPFVNB-w-x\" style=\"left: 312px; height: 58.414860681114554px;\"></div><div class=\"CTPFVNB-w-x\" style=\"left: 318px; height: 60.54798761609908px;\"></div><div class=\"CTPFVNB-w-x\" style=\"left: 324px; height: 60.94343653250773px;\"></div><div class=\"CTPFVNB-w-x\" style=\"left: 330px; height: 60.94343653250773px;\"></div><div class=\"CTPFVNB-w-x\" style=\"left: 336px; height: 64.22517027863776px;\"></div><div class=\"CTPFVNB-w-x CTPFVNB-w-M\" style=\"left: 342px; height: 63.8067492260062px;\"></div><div class=\"CTPFVNB-w-x CTPFVNB-w-M\" style=\"left: 348px; height: 63.1733746130031px;\"></div><div class=\"CTPFVNB-w-x\" style=\"left: 354px; height: 60.94343653250773px;\"></div><div class=\"CTPFVNB-w-L\" style=\"left: 11px;\"></div><div class=\"CTPFVNB-w-L\" style=\"left: 53px;\"></div><div class=\"CTPFVNB-w-L\" style=\"left: 95px;\"></div><div class=\"CTPFVNB-w-L\" style=\"left: 137px;\"></div><div class=\"CTPFVNB-w-L\" style=\"left: 179px;\"></div><div class=\"CTPFVNB-w-L\" style=\"left: 221px;\"></div><div class=\"CTPFVNB-w-L\" style=\"left: 263px;\"></div><div class=\"CTPFVNB-w-L\" style=\"left: 305px;\"></div><div class=\"CTPFVNB-w-L\" style=\"left: 347px;\"></div><div aria-hidden=\"true\" class=\"CTPFVNB-w-J\" style=\"display: none;\"></div><div aria-hidden=\"true\" class=\"CTPFVNB-w-K\" style=\"display: none;\"></div></div>,\n",
       " <div class=\"CTPFVNB-w-o CTPFVNB-w-b\"><div class=\"CTPFVNB-w-x\" style=\"left: 0px; height: 105.64240734077006px;\"></div><div class=\"CTPFVNB-w-x CTPFVNB-w-M\" style=\"left: 6px; height: 105.64240734077006px;\"></div><div class=\"CTPFVNB-w-x CTPFVNB-w-M\" style=\"left: 12px; height: 105.64240734077006px;\"></div><div class=\"CTPFVNB-w-x\" style=\"left: 18px; height: 105.64240734077006px;\"></div><div class=\"CTPFVNB-w-x\" style=\"left: 24px; height: 91.80595537963296px;\"></div><div class=\"CTPFVNB-w-x\" style=\"left: 30px; height: 102.75782655631522px;\"></div><div class=\"CTPFVNB-w-x\" style=\"left: 36px; height: 102.75782655631522px;\"></div><div class=\"CTPFVNB-w-x\" style=\"left: 42px; height: 102.75782655631522px;\"></div><div class=\"CTPFVNB-w-x CTPFVNB-w-M\" style=\"left: 48px; height: 96.57385750269881px;\"></div><div class=\"CTPFVNB-w-x CTPFVNB-w-M\" style=\"left: 54px; height: 89.42200431810004px;\"></div><div class=\"CTPFVNB-w-x CTPFVNB-w-f\" style=\"left: 60px; height: 87.03805325656711px;\"></div><div class=\"CTPFVNB-w-x\" style=\"left: 66px; height: 96.57385750269881px;\"></div><div class=\"CTPFVNB-w-x\" style=\"left: 72px; height: 105.64240734077006px;\"></div><div class=\"CTPFVNB-w-x\" style=\"left: 78px; height: 105.64240734077006px;\"></div><div class=\"CTPFVNB-w-x\" style=\"left: 84px; height: 105.64240734077006px;\"></div><div class=\"CTPFVNB-w-x CTPFVNB-w-M\" style=\"left: 90px; height: 89.42200431810004px;\"></div><div class=\"CTPFVNB-w-x CTPFVNB-w-M\" style=\"left: 96px; height: 89.42200431810004px;\"></div><div class=\"CTPFVNB-w-x\" style=\"left: 102px; height: 97.0506477150054px;\"></div><div class=\"CTPFVNB-w-x\" style=\"left: 108px; height: 87.03805325656711px;\"></div><div class=\"CTPFVNB-w-x\" style=\"left: 114px; height: 92.28274559193954px;\"></div><div class=\"CTPFVNB-w-x\" style=\"left: 120px; height: 89.42200431810004px;\"></div><div class=\"CTPFVNB-w-x\" style=\"left: 126px; height: 89.42200431810004px;\"></div><div class=\"CTPFVNB-w-x CTPFVNB-w-M\" style=\"left: 132px; height: 92.28274559193954px;\"></div><div class=\"CTPFVNB-w-x CTPFVNB-w-M\" style=\"left: 138px; height: 89.42200431810004px;\"></div><div class=\"CTPFVNB-w-x\" style=\"left: 144px; height: 87.03805325656711px;\"></div><div class=\"CTPFVNB-w-x\" style=\"left: 150px; height: 92.28274559193954px;\"></div><div class=\"CTPFVNB-w-x\" style=\"left: 156px; height: 92.28274559193954px;\"></div><div class=\"CTPFVNB-w-x\" style=\"left: 162px; height: 91.80595537963296px;\"></div><div class=\"CTPFVNB-w-x\" style=\"left: 168px; height: 91.80595537963296px;\"></div><div class=\"CTPFVNB-w-x CTPFVNB-w-M\" style=\"left: 174px; height: 102.75782655631522px;\"></div><div class=\"CTPFVNB-w-x CTPFVNB-w-M\" style=\"left: 180px; height: 99.26772220223101px;\"></div><div class=\"CTPFVNB-w-x\" style=\"left: 186px; height: 94.66669665347247px;\"></div><div class=\"CTPFVNB-w-x\" style=\"left: 192px; height: 102.75782655631522px;\"></div><div class=\"CTPFVNB-w-x\" style=\"left: 198px; height: 105.64240734077006px;\"></div><div class=\"CTPFVNB-w-x\" style=\"left: 204px; height: 105.64240734077006px;\"></div><div class=\"CTPFVNB-w-x\" style=\"left: 210px; height: 102.75782655631522px;\"></div><div class=\"CTPFVNB-w-x CTPFVNB-w-M\" style=\"left: 216px; height: 102.75782655631522px;\"></div><div class=\"CTPFVNB-w-x CTPFVNB-w-M\" style=\"left: 222px; height: 102.75782655631522px;\"></div><div class=\"CTPFVNB-w-x\" style=\"left: 228px; height: 102.75782655631522px;\"></div><div class=\"CTPFVNB-w-x\" style=\"left: 234px; height: 102.75782655631522px;\"></div><div class=\"CTPFVNB-w-x\" style=\"left: 240px; height: 102.75782655631522px;\"></div><div class=\"CTPFVNB-w-x\" style=\"left: 246px; height: 102.75782655631522px;\"></div><div class=\"CTPFVNB-w-x\" style=\"left: 252px; height: 102.75782655631522px;\"></div><div class=\"CTPFVNB-w-x CTPFVNB-w-M\" style=\"left: 258px; height: 102.75782655631522px;\"></div><div class=\"CTPFVNB-w-x CTPFVNB-w-M\" style=\"left: 264px; height: 102.75782655631522px;\"></div><div class=\"CTPFVNB-w-x\" style=\"left: 270px; height: 102.75782655631522px;\"></div><div class=\"CTPFVNB-w-x\" style=\"left: 276px; height: 102.29534005037783px;\"></div><div class=\"CTPFVNB-w-x\" style=\"left: 282px; height: 101.81854983807125px;\"></div><div class=\"CTPFVNB-w-x\" style=\"left: 288px; height: 102.75782655631522px;\"></div><div class=\"CTPFVNB-w-x\" style=\"left: 294px; height: 102.75782655631522px;\"></div><div class=\"CTPFVNB-w-x CTPFVNB-w-M\" style=\"left: 300px; height: 102.75782655631522px;\"></div><div class=\"CTPFVNB-w-x CTPFVNB-w-M\" style=\"left: 306px; height: 104.67929111191076px;\"></div><div class=\"CTPFVNB-w-x\" style=\"left: 312px; height: 99.9113889888449px;\"></div><div class=\"CTPFVNB-w-x\" style=\"left: 318px; height: 105.64240734077006px;\"></div><div class=\"CTPFVNB-w-x\" style=\"left: 324px; height: 105.64240734077006px;\"></div><div class=\"CTPFVNB-w-x\" style=\"left: 330px; height: 99.9113889888449px;\"></div><div class=\"CTPFVNB-w-x\" style=\"left: 336px; height: 103.48731558114429px;\"></div><div class=\"CTPFVNB-w-x CTPFVNB-w-M\" style=\"left: 342px; height: 104.67929111191076px;\"></div><div class=\"CTPFVNB-w-x CTPFVNB-w-M\" style=\"left: 348px; height: 106px;\"></div><div class=\"CTPFVNB-w-x\" style=\"left: 354px; height: 104.67929111191076px;\"></div><div class=\"CTPFVNB-w-L\" style=\"left: 11px;\"></div><div class=\"CTPFVNB-w-L\" style=\"left: 53px;\"></div><div class=\"CTPFVNB-w-L\" style=\"left: 95px;\"></div><div class=\"CTPFVNB-w-L\" style=\"left: 137px;\"></div><div class=\"CTPFVNB-w-L\" style=\"left: 179px;\"></div><div class=\"CTPFVNB-w-L\" style=\"left: 221px;\"></div><div class=\"CTPFVNB-w-L\" style=\"left: 263px;\"></div><div class=\"CTPFVNB-w-L\" style=\"left: 305px;\"></div><div class=\"CTPFVNB-w-L\" style=\"left: 347px;\"></div><div aria-hidden=\"true\" class=\"CTPFVNB-w-J\" style=\"display: none;\"></div><div aria-hidden=\"true\" class=\"CTPFVNB-w-K\" style=\"display: none;\"></div></div>,\n",
       " <div class=\"CTPFVNB-w-o CTPFVNB-w-b\"><div class=\"CTPFVNB-w-x CTPFVNB-w-f\" style=\"left: 0px; height: 77.63671875px;\"></div><div class=\"CTPFVNB-w-x CTPFVNB-w-M\" style=\"left: 6px; height: 77.63671875px;\"></div><div class=\"CTPFVNB-w-x CTPFVNB-w-M\" style=\"left: 12px; height: 77.63671875px;\"></div><div class=\"CTPFVNB-w-x\" style=\"left: 18px; height: 77.63671875px;\"></div><div class=\"CTPFVNB-w-x\" style=\"left: 24px; height: 77.63671875px;\"></div><div class=\"CTPFVNB-w-x\" style=\"left: 30px; height: 77.63671875px;\"></div><div class=\"CTPFVNB-w-x\" style=\"left: 36px; height: 77.84375px;\"></div><div class=\"CTPFVNB-w-x\" style=\"left: 42px; height: 77.84375px;\"></div><div class=\"CTPFVNB-w-x CTPFVNB-w-M\" style=\"left: 48px; height: 77.63671875px;\"></div><div class=\"CTPFVNB-w-x CTPFVNB-w-M\" style=\"left: 54px; height: 79.54761718750001px;\"></div><div class=\"CTPFVNB-w-x\" style=\"left: 60px; height: 77.84375px;\"></div><div class=\"CTPFVNB-w-x\" style=\"left: 66px; height: 77.84375px;\"></div><div class=\"CTPFVNB-w-x\" style=\"left: 72px; height: 92.6444140625px;\"></div><div class=\"CTPFVNB-w-x\" style=\"left: 78px; height: 106px;\"></div><div class=\"CTPFVNB-w-x\" style=\"left: 84px; height: 101.65234375px;\"></div><div class=\"CTPFVNB-w-x CTPFVNB-w-M\" style=\"left: 90px; height: 77.84375px;\"></div><div class=\"CTPFVNB-w-x CTPFVNB-w-M\" style=\"left: 96px; height: 77.84375px;\"></div><div class=\"CTPFVNB-w-x\" style=\"left: 102px; height: 77.63671875px;\"></div><div class=\"CTPFVNB-w-x\" style=\"left: 108px; height: 77.63671875px;\"></div><div class=\"CTPFVNB-w-x\" style=\"left: 114px; height: 77.63671875px;\"></div><div class=\"CTPFVNB-w-x\" style=\"left: 120px; height: 79.9140625px;\"></div><div class=\"CTPFVNB-w-x\" style=\"left: 126px; height: 77.84375px;\"></div><div class=\"CTPFVNB-w-x CTPFVNB-w-M\" style=\"left: 132px; height: 77.63671875px;\"></div><div class=\"CTPFVNB-w-x CTPFVNB-w-M\" style=\"left: 138px; height: 77.84375px;\"></div><div class=\"CTPFVNB-w-x\" style=\"left: 144px; height: 78.2557421875px;\"></div><div class=\"CTPFVNB-w-x\" style=\"left: 150px; height: 78.2557421875px;\"></div><div class=\"CTPFVNB-w-x\" style=\"left: 156px; height: 79.9140625px;\"></div><div class=\"CTPFVNB-w-x\" style=\"left: 162px; height: 92.54296875px;\"></div><div class=\"CTPFVNB-w-x\" style=\"left: 168px; height: 78.2557421875px;\"></div><div class=\"CTPFVNB-w-x CTPFVNB-w-M\" style=\"left: 174px; height: 78.2557421875px;\"></div><div class=\"CTPFVNB-w-x CTPFVNB-w-M\" style=\"left: 180px; height: 77.84375px;\"></div><div class=\"CTPFVNB-w-x\" style=\"left: 186px; height: 78.2557421875px;\"></div><div class=\"CTPFVNB-w-x\" style=\"left: 192px; height: 78.2557421875px;\"></div><div class=\"CTPFVNB-w-x\" style=\"left: 198px; height: 82.3963671875px;\"></div><div class=\"CTPFVNB-w-x\" style=\"left: 204px; height: 86.33203125px;\"></div><div class=\"CTPFVNB-w-x\" style=\"left: 210px; height: 90.47265625px;\"></div><div class=\"CTPFVNB-w-x CTPFVNB-w-M\" style=\"left: 216px; height: 78.2557421875px;\"></div><div class=\"CTPFVNB-w-x CTPFVNB-w-M\" style=\"left: 222px; height: 77.84375px;\"></div><div class=\"CTPFVNB-w-x\" style=\"left: 228px; height: 78.2557421875px;\"></div><div class=\"CTPFVNB-w-x\" style=\"left: 234px; height: 78.2557421875px;\"></div><div class=\"CTPFVNB-w-x\" style=\"left: 240px; height: 92.9549609375px;\"></div><div class=\"CTPFVNB-w-x\" style=\"left: 246px; height: 92.54296875px;\"></div><div class=\"CTPFVNB-w-x\" style=\"left: 252px; height: 86.33203125px;\"></div><div class=\"CTPFVNB-w-x CTPFVNB-w-M\" style=\"left: 258px; height: 77.84375px;\"></div><div class=\"CTPFVNB-w-x CTPFVNB-w-M\" style=\"left: 264px; height: 86.33203125px;\"></div><div class=\"CTPFVNB-w-x\" style=\"left: 270px; height: 79.0859375px;\"></div><div class=\"CTPFVNB-w-x\" style=\"left: 276px; height: 81.15625px;\"></div><div class=\"CTPFVNB-w-x\" style=\"left: 282px; height: 94.61328125px;\"></div><div class=\"CTPFVNB-w-x\" style=\"left: 288px; height: 86.33203125px;\"></div><div class=\"CTPFVNB-w-x\" style=\"left: 294px; height: 93.8037890625px;\"></div><div class=\"CTPFVNB-w-x CTPFVNB-w-M\" style=\"left: 300px; height: 93.78515625px;\"></div><div class=\"CTPFVNB-w-x CTPFVNB-w-M\" style=\"left: 306px; height: 79.55589843749999px;\"></div><div class=\"CTPFVNB-w-x\" style=\"left: 312px; height: 77.84375px;\"></div><div class=\"CTPFVNB-w-x\" style=\"left: 318px; height: 78.2557421875px;\"></div><div class=\"CTPFVNB-w-x\" style=\"left: 324px; height: 94.19921875px;\"></div><div class=\"CTPFVNB-w-x\" style=\"left: 330px; height: 79.0859375px;\"></div><div class=\"CTPFVNB-w-x\" style=\"left: 336px; height: 77.84375px;\"></div><div class=\"CTPFVNB-w-x CTPFVNB-w-M\" style=\"left: 342px; height: 81.36328125px;\"></div><div class=\"CTPFVNB-w-x CTPFVNB-w-M\" style=\"left: 348px; height: 79.1045703125px;\"></div><div class=\"CTPFVNB-w-x\" style=\"left: 354px; height: 77.84375px;\"></div><div class=\"CTPFVNB-w-L\" style=\"left: 11px;\"></div><div class=\"CTPFVNB-w-L\" style=\"left: 53px;\"></div><div class=\"CTPFVNB-w-L\" style=\"left: 95px;\"></div><div class=\"CTPFVNB-w-L\" style=\"left: 137px;\"></div><div class=\"CTPFVNB-w-L\" style=\"left: 179px;\"></div><div class=\"CTPFVNB-w-L\" style=\"left: 221px;\"></div><div class=\"CTPFVNB-w-L\" style=\"left: 263px;\"></div><div class=\"CTPFVNB-w-L\" style=\"left: 305px;\"></div><div class=\"CTPFVNB-w-L\" style=\"left: 347px;\"></div><div aria-hidden=\"true\" class=\"CTPFVNB-w-J\" style=\"display: none;\"></div><div aria-hidden=\"true\" class=\"CTPFVNB-w-K\" style=\"display: none;\"></div></div>,\n",
       " <div class=\"CTPFVNB-w-o CTPFVNB-w-b\"><div class=\"CTPFVNB-w-x\" style=\"left: 0px; height: 82.7155693384224px;\"></div><div class=\"CTPFVNB-w-x CTPFVNB-w-M\" style=\"left: 6px; height: 82.7155693384224px;\"></div><div class=\"CTPFVNB-w-x CTPFVNB-w-M\" style=\"left: 12px; height: 82.7155693384224px;\"></div><div class=\"CTPFVNB-w-x\" style=\"left: 18px; height: 82.7155693384224px;\"></div><div class=\"CTPFVNB-w-x\" style=\"left: 24px; height: 84.12738549618321px;\"></div><div class=\"CTPFVNB-w-x\" style=\"left: 30px; height: 82.39949109414758px;\"></div><div class=\"CTPFVNB-w-x\" style=\"left: 36px; height: 82.39949109414758px;\"></div><div class=\"CTPFVNB-w-x\" style=\"left: 42px; height: 82.39949109414758px;\"></div><div class=\"CTPFVNB-w-x CTPFVNB-w-M\" style=\"left: 48px; height: 84.12738549618321px;\"></div><div class=\"CTPFVNB-w-x CTPFVNB-w-M\" style=\"left: 54px; height: 91.98719783715013px;\"></div><div class=\"CTPFVNB-w-x\" style=\"left: 60px; height: 82.39949109414758px;\"></div><div class=\"CTPFVNB-w-x\" style=\"left: 66px; height: 83.2634382951654px;\"></div><div class=\"CTPFVNB-w-x\" style=\"left: 72px; height: 96.03299936386769px;\"></div><div class=\"CTPFVNB-w-x\" style=\"left: 78px; height: 92.11362913486005px;\"></div><div class=\"CTPFVNB-w-x\" style=\"left: 84px; height: 104.75675890585242px;\"></div><div class=\"CTPFVNB-w-x CTPFVNB-w-M\" style=\"left: 90px; height: 84.12738549618321px;\"></div><div class=\"CTPFVNB-w-x CTPFVNB-w-M\" style=\"left: 96px; height: 91.56576017811706px;\"></div><div class=\"CTPFVNB-w-x\" style=\"left: 102px; height: 91.88183842239185px;\"></div><div class=\"CTPFVNB-w-x\" style=\"left: 108px; height: 84.44346374045801px;\"></div><div class=\"CTPFVNB-w-x\" style=\"left: 114px; height: 82.7155693384224px;\"></div><div class=\"CTPFVNB-w-x\" style=\"left: 120px; height: 85.44648536895674px;\"></div><div class=\"CTPFVNB-w-x\" style=\"left: 126px; height: 97.57124681933843px;\"></div><div class=\"CTPFVNB-w-x CTPFVNB-w-M\" style=\"left: 132px; height: 92.85114503816794px;\"></div><div class=\"CTPFVNB-w-x CTPFVNB-w-M\" style=\"left: 138px; height: 98.73020038167938px;\"></div><div class=\"CTPFVNB-w-x\" style=\"left: 144px; height: 82.39949109414758px;\"></div><div class=\"CTPFVNB-w-x CTPFVNB-w-f\" style=\"left: 150px; height: 81.76733460559797px;\"></div><div class=\"CTPFVNB-w-x\" style=\"left: 156px; height: 82.63128180661577px;\"></div><div class=\"CTPFVNB-w-x\" style=\"left: 162px; height: 81.76733460559797px;\"></div><div class=\"CTPFVNB-w-x\" style=\"left: 168px; height: 81.76733460559797px;\"></div><div class=\"CTPFVNB-w-x CTPFVNB-w-M\" style=\"left: 174px; height: 81.76733460559797px;\"></div><div class=\"CTPFVNB-w-x CTPFVNB-w-M\" style=\"left: 180px; height: 81.76733460559797px;\"></div><div class=\"CTPFVNB-w-x\" style=\"left: 186px; height: 82.7155693384224px;\"></div><div class=\"CTPFVNB-w-x\" style=\"left: 192px; height: 81.76733460559797px;\"></div><div class=\"CTPFVNB-w-x\" style=\"left: 198px; height: 81.76733460559797px;\"></div><div class=\"CTPFVNB-w-x\" style=\"left: 204px; height: 82.39949109414758px;\"></div><div class=\"CTPFVNB-w-x\" style=\"left: 210px; height: 91.88183842239185px;\"></div><div class=\"CTPFVNB-w-x CTPFVNB-w-M\" style=\"left: 216px; height: 91.88183842239185px;\"></div><div class=\"CTPFVNB-w-x CTPFVNB-w-M\" style=\"left: 222px; height: 82.39949109414758px;\"></div><div class=\"CTPFVNB-w-x\" style=\"left: 228px; height: 82.7155693384224px;\"></div><div class=\"CTPFVNB-w-x\" style=\"left: 234px; height: 82.63128180661577px;\"></div><div class=\"CTPFVNB-w-x\" style=\"left: 240px; height: 83.5795165394402px;\"></div><div class=\"CTPFVNB-w-x\" style=\"left: 246px; height: 93.06186386768448px;\"></div><div class=\"CTPFVNB-w-x\" style=\"left: 252px; height: 93.06186386768448px;\"></div><div class=\"CTPFVNB-w-x CTPFVNB-w-M\" style=\"left: 258px; height: 95.16905216284987px;\"></div><div class=\"CTPFVNB-w-x CTPFVNB-w-M\" style=\"left: 264px; height: 92.19791666666666px;\"></div><div class=\"CTPFVNB-w-x\" style=\"left: 270px; height: 98.51948155216286px;\"></div><div class=\"CTPFVNB-w-x\" style=\"left: 276px; height: 82.7155693384224px;\"></div><div class=\"CTPFVNB-w-x\" style=\"left: 282px; height: 101.46954516539441px;\"></div><div class=\"CTPFVNB-w-x\" style=\"left: 288px; height: 92.11362913486005px;\"></div><div class=\"CTPFVNB-w-x\" style=\"left: 294px; height: 92.19791666666666px;\"></div><div class=\"CTPFVNB-w-x CTPFVNB-w-M\" style=\"left: 300px; height: 106px;\"></div><div class=\"CTPFVNB-w-x CTPFVNB-w-M\" style=\"left: 306px; height: 97.57124681933843px;\"></div><div class=\"CTPFVNB-w-x\" style=\"left: 312px; height: 94.30510496183206px;\"></div><div class=\"CTPFVNB-w-x\" style=\"left: 318px; height: 92.19791666666666px;\"></div><div class=\"CTPFVNB-w-x\" style=\"left: 324px; height: 92.19791666666666px;\"></div><div class=\"CTPFVNB-w-x\" style=\"left: 330px; height: 93.46644402035624px;\"></div><div class=\"CTPFVNB-w-x\" style=\"left: 336px; height: 91.24968193384224px;\"></div><div class=\"CTPFVNB-w-x CTPFVNB-w-M\" style=\"left: 342px; height: 92.19791666666666px;\"></div><div class=\"CTPFVNB-w-x CTPFVNB-w-M\" style=\"left: 348px; height: 93.35687022900764px;\"></div><div class=\"CTPFVNB-w-x\" style=\"left: 354px; height: 98.43519402035624px;\"></div><div class=\"CTPFVNB-w-L\" style=\"left: 11px;\"></div><div class=\"CTPFVNB-w-L\" style=\"left: 53px;\"></div><div class=\"CTPFVNB-w-L\" style=\"left: 95px;\"></div><div class=\"CTPFVNB-w-L\" style=\"left: 137px;\"></div><div class=\"CTPFVNB-w-L\" style=\"left: 179px;\"></div><div class=\"CTPFVNB-w-L\" style=\"left: 221px;\"></div><div class=\"CTPFVNB-w-L\" style=\"left: 263px;\"></div><div class=\"CTPFVNB-w-L\" style=\"left: 305px;\"></div><div class=\"CTPFVNB-w-L\" style=\"left: 347px;\"></div><div aria-hidden=\"true\" class=\"CTPFVNB-w-J\" style=\"display: none;\"></div><div aria-hidden=\"true\" class=\"CTPFVNB-w-K\" style=\"display: none;\"></div></div>,\n",
       " <div class=\"CTPFVNB-w-o CTPFVNB-w-b\"><div class=\"CTPFVNB-w-x\" style=\"left: 0px; height: 106px;\"></div><div class=\"CTPFVNB-w-x CTPFVNB-w-M\" style=\"left: 6px; height: 106px;\"></div><div class=\"CTPFVNB-w-x CTPFVNB-w-M\" style=\"left: 12px; height: 106px;\"></div><div class=\"CTPFVNB-w-x\" style=\"left: 18px; height: 106px;\"></div><div class=\"CTPFVNB-w-x\" style=\"left: 24px; height: 104.7837617066545px;\"></div><div class=\"CTPFVNB-w-x\" style=\"left: 30px; height: 91.29237666457705px;\"></div><div class=\"CTPFVNB-w-x\" style=\"left: 36px; height: 97.33329534013411px;\"></div><div class=\"CTPFVNB-w-x\" style=\"left: 42px; height: 103.17285005983928px;\"></div><div class=\"CTPFVNB-w-x CTPFVNB-w-M\" style=\"left: 48px; height: 83.23781843050094px;\"></div><div class=\"CTPFVNB-w-x CTPFVNB-w-M\" style=\"left: 54px; height: 83.23781843050094px;\"></div><div class=\"CTPFVNB-w-x CTPFVNB-w-f\" style=\"left: 60px; height: 81.02281491613002px;\"></div><div class=\"CTPFVNB-w-x\" style=\"left: 66px; height: 83.23781843050094px;\"></div><div class=\"CTPFVNB-w-x\" style=\"left: 72px; height: 89.07737315020611px;\"></div><div class=\"CTPFVNB-w-x\" style=\"left: 78px; height: 106px;\"></div><div class=\"CTPFVNB-w-x\" style=\"left: 84px; height: 106px;\"></div><div class=\"CTPFVNB-w-x CTPFVNB-w-M\" style=\"left: 90px; height: 83.23781843050094px;\"></div><div class=\"CTPFVNB-w-x CTPFVNB-w-M\" style=\"left: 96px; height: 85.46087650310594px;\"></div><div class=\"CTPFVNB-w-x\" style=\"left: 102px; height: 91.69510457628084px;\"></div><div class=\"CTPFVNB-w-x\" style=\"left: 108px; height: 90.81514408920803px;\"></div><div class=\"CTPFVNB-w-x\" style=\"left: 114px; height: 87.06373359168708px;\"></div><div class=\"CTPFVNB-w-x\" style=\"left: 120px; height: 85.38637183944073px;\"></div><div class=\"CTPFVNB-w-x\" style=\"left: 126px; height: 85.46087650310594px;\"></div><div class=\"CTPFVNB-w-x CTPFVNB-w-M\" style=\"left: 132px; height: 83.64860090043882px;\"></div><div class=\"CTPFVNB-w-x CTPFVNB-w-M\" style=\"left: 138px; height: 83.23781843050094px;\"></div><div class=\"CTPFVNB-w-x\" style=\"left: 144px; height: 83.64860090043882px;\"></div><div class=\"CTPFVNB-w-x\" style=\"left: 150px; height: 83.64860090043882px;\"></div><div class=\"CTPFVNB-w-x\" style=\"left: 156px; height: 89.68951957599589px;\"></div><div class=\"CTPFVNB-w-x\" style=\"left: 162px; height: 85.38637183944073px;\"></div><div class=\"CTPFVNB-w-x\" style=\"left: 168px; height: 86.78786497216998px;\"></div><div class=\"CTPFVNB-w-x CTPFVNB-w-M\" style=\"left: 174px; height: 90.61378013335613px;\"></div><div class=\"CTPFVNB-w-x CTPFVNB-w-M\" style=\"left: 180px; height: 92.91134286962634px;\"></div><div class=\"CTPFVNB-w-x\" style=\"left: 186px; height: 106px;\"></div><div class=\"CTPFVNB-w-x\" style=\"left: 192px; height: 98.74284303109744px;\"></div><div class=\"CTPFVNB-w-x\" style=\"left: 198px; height: 99.74966281035694px;\"></div><div class=\"CTPFVNB-w-x\" style=\"left: 204px; height: 103.3742140156912px;\"></div><div class=\"CTPFVNB-w-x\" style=\"left: 210px; height: 106px;\"></div><div class=\"CTPFVNB-w-x CTPFVNB-w-M\" style=\"left: 216px; height: 102.36739423643168px;\"></div><div class=\"CTPFVNB-w-x CTPFVNB-w-M\" style=\"left: 222px; height: 100.35375467791265px;\"></div><div class=\"CTPFVNB-w-x\" style=\"left: 228px; height: 99.34693489865313px;\"></div><div class=\"CTPFVNB-w-x\" style=\"left: 234px; height: 96.3264755608746px;\"></div><div class=\"CTPFVNB-w-x\" style=\"left: 240px; height: 96.3264755608746px;\"></div><div class=\"CTPFVNB-w-x\" style=\"left: 246px; height: 103.3742140156912px;\"></div><div class=\"CTPFVNB-w-x\" style=\"left: 252px; height: 105.38785357421021px;\"></div><div class=\"CTPFVNB-w-x CTPFVNB-w-M\" style=\"left: 258px; height: 96.3264755608746px;\"></div><div class=\"CTPFVNB-w-x CTPFVNB-w-M\" style=\"left: 264px; height: 100.35375467791265px;\"></div><div class=\"CTPFVNB-w-x\" style=\"left: 270px; height: 100.35375467791265px;\"></div><div class=\"CTPFVNB-w-x\" style=\"left: 276px; height: 98.34011511939363px;\"></div><div class=\"CTPFVNB-w-x\" style=\"left: 282px; height: 98.34011511939363px;\"></div><div class=\"CTPFVNB-w-x\" style=\"left: 288px; height: 99.34693489865313px;\"></div><div class=\"CTPFVNB-w-x\" style=\"left: 294px; height: 102.36739423643168px;\"></div><div class=\"CTPFVNB-w-x CTPFVNB-w-M\" style=\"left: 300px; height: 102.36739423643168px;\"></div><div class=\"CTPFVNB-w-x CTPFVNB-w-M\" style=\"left: 306px; height: 100.35375467791265px;\"></div><div class=\"CTPFVNB-w-x\" style=\"left: 312px; height: 96.3264755608746px;\"></div><div class=\"CTPFVNB-w-x\" style=\"left: 318px; height: 101.36057445717216px;\"></div><div class=\"CTPFVNB-w-x\" style=\"left: 324px; height: 99.34693489865313px;\"></div><div class=\"CTPFVNB-w-x\" style=\"left: 330px; height: 102.36739423643168px;\"></div><div class=\"CTPFVNB-w-x\" style=\"left: 336px; height: 99.34693489865313px;\"></div><div class=\"CTPFVNB-w-x CTPFVNB-w-M\" style=\"left: 342px; height: 100.35375467791265px;\"></div><div class=\"CTPFVNB-w-x CTPFVNB-w-M\" style=\"left: 348px; height: 102.36739423643168px;\"></div><div class=\"CTPFVNB-w-x\" style=\"left: 354px; height: 99.34693489865313px;\"></div><div class=\"CTPFVNB-w-L\" style=\"left: 11px;\"></div><div class=\"CTPFVNB-w-L\" style=\"left: 53px;\"></div><div class=\"CTPFVNB-w-L\" style=\"left: 95px;\"></div><div class=\"CTPFVNB-w-L\" style=\"left: 137px;\"></div><div class=\"CTPFVNB-w-L\" style=\"left: 179px;\"></div><div class=\"CTPFVNB-w-L\" style=\"left: 221px;\"></div><div class=\"CTPFVNB-w-L\" style=\"left: 263px;\"></div><div class=\"CTPFVNB-w-L\" style=\"left: 305px;\"></div><div class=\"CTPFVNB-w-L\" style=\"left: 347px;\"></div><div aria-hidden=\"true\" class=\"CTPFVNB-w-J\" style=\"display: none;\"></div><div aria-hidden=\"true\" class=\"CTPFVNB-w-K\" style=\"display: none;\"></div></div>,\n",
       " <div class=\"CTPFVNB-w-o CTPFVNB-w-b\"><div class=\"CTPFVNB-w-x\" style=\"left: 0px; height: 90.90709061482043px;\"></div><div class=\"CTPFVNB-w-x CTPFVNB-w-M\" style=\"left: 6px; height: 90.90709061482043px;\"></div><div class=\"CTPFVNB-w-x CTPFVNB-w-M\" style=\"left: 12px; height: 90.90709061482043px;\"></div><div class=\"CTPFVNB-w-x\" style=\"left: 18px; height: 90.90709061482043px;\"></div><div class=\"CTPFVNB-w-x\" style=\"left: 24px; height: 90.90709061482043px;\"></div><div class=\"CTPFVNB-w-x\" style=\"left: 30px; height: 90.90709061482043px;\"></div><div class=\"CTPFVNB-w-x\" style=\"left: 36px; height: 90.90709061482043px;\"></div><div class=\"CTPFVNB-w-x CTPFVNB-w-f\" style=\"left: 42px; height: 88.27940423265248px;\"></div><div class=\"CTPFVNB-w-x CTPFVNB-w-M\" style=\"left: 48px; height: 88.27940423265248px;\"></div><div class=\"CTPFVNB-w-x CTPFVNB-w-M\" style=\"left: 54px; height: 88.27940423265248px;\"></div><div class=\"CTPFVNB-w-x\" style=\"left: 60px; height: 90.90709061482043px;\"></div><div class=\"CTPFVNB-w-x\" style=\"left: 66px; height: 90.90709061482043px;\"></div><div class=\"CTPFVNB-w-x\" style=\"left: 72px; height: 90.90709061482043px;\"></div><div class=\"CTPFVNB-w-x\" style=\"left: 78px; height: 90.90709061482043px;\"></div><div class=\"CTPFVNB-w-x\" style=\"left: 84px; height: 99.1593288398107px;\"></div><div class=\"CTPFVNB-w-x CTPFVNB-w-M\" style=\"left: 90px; height: 91.55858310626702px;\"></div><div class=\"CTPFVNB-w-x CTPFVNB-w-M\" style=\"left: 96px; height: 90.90709061482043px;\"></div><div class=\"CTPFVNB-w-x\" style=\"left: 102px; height: 90.90709061482043px;\"></div><div class=\"CTPFVNB-w-x\" style=\"left: 108px; height: 90.90709061482043px;\"></div><div class=\"CTPFVNB-w-x\" style=\"left: 114px; height: 90.90709061482043px;\"></div><div class=\"CTPFVNB-w-x\" style=\"left: 120px; height: 88.27940423265248px;\"></div><div class=\"CTPFVNB-w-x\" style=\"left: 126px; height: 88.27940423265248px;\"></div><div class=\"CTPFVNB-w-x CTPFVNB-w-M\" style=\"left: 132px; height: 88.27940423265248px;\"></div><div class=\"CTPFVNB-w-x CTPFVNB-w-M\" style=\"left: 138px; height: 88.27940423265248px;\"></div><div class=\"CTPFVNB-w-x\" style=\"left: 144px; height: 88.27940423265248px;\"></div><div class=\"CTPFVNB-w-x\" style=\"left: 150px; height: 88.27940423265248px;\"></div><div class=\"CTPFVNB-w-x\" style=\"left: 156px; height: 88.71373256028355px;\"></div><div class=\"CTPFVNB-w-x\" style=\"left: 162px; height: 88.27940423265248px;\"></div><div class=\"CTPFVNB-w-x\" style=\"left: 168px; height: 88.27940423265248px;\"></div><div class=\"CTPFVNB-w-x CTPFVNB-w-M\" style=\"left: 174px; height: 89.92985187765053px;\"></div><div class=\"CTPFVNB-w-x CTPFVNB-w-M\" style=\"left: 180px; height: 88.27940423265248px;\"></div><div class=\"CTPFVNB-w-x\" style=\"left: 186px; height: 88.27940423265248px;\"></div><div class=\"CTPFVNB-w-x\" style=\"left: 192px; height: 90.90709061482043px;\"></div><div class=\"CTPFVNB-w-x\" style=\"left: 198px; height: 90.90709061482043px;\"></div><div class=\"CTPFVNB-w-x\" style=\"left: 204px; height: 91.23283686054373px;\"></div><div class=\"CTPFVNB-w-x\" style=\"left: 210px; height: 99.26791092171847px;\"></div><div class=\"CTPFVNB-w-x CTPFVNB-w-M\" style=\"left: 216px; height: 99.26791092171847px;\"></div><div class=\"CTPFVNB-w-x CTPFVNB-w-M\" style=\"left: 222px; height: 99.26791092171847px;\"></div><div class=\"CTPFVNB-w-x\" style=\"left: 228px; height: 88.27940423265248px;\"></div><div class=\"CTPFVNB-w-x\" style=\"left: 234px; height: 92.11886664891111px;\"></div><div class=\"CTPFVNB-w-x\" style=\"left: 240px; height: 88.71373256028355px;\"></div><div class=\"CTPFVNB-w-x\" style=\"left: 246px; height: 99.26791092171847px;\"></div><div class=\"CTPFVNB-w-x\" style=\"left: 252px; height: 102.09104505132039px;\"></div><div class=\"CTPFVNB-w-x CTPFVNB-w-M\" style=\"left: 258px; height: 99.26791092171847px;\"></div><div class=\"CTPFVNB-w-x CTPFVNB-w-M\" style=\"left: 264px; height: 105.6742537542767px;\"></div><div class=\"CTPFVNB-w-x\" style=\"left: 270px; height: 105.6742537542767px;\"></div><div class=\"CTPFVNB-w-x\" style=\"left: 276px; height: 105.6742537542767px;\"></div><div class=\"CTPFVNB-w-x\" style=\"left: 282px; height: 105.6742537542767px;\"></div><div class=\"CTPFVNB-w-x\" style=\"left: 288px; height: 99.26791092171847px;\"></div><div class=\"CTPFVNB-w-x\" style=\"left: 294px; height: 102.09104505132039px;\"></div><div class=\"CTPFVNB-w-x CTPFVNB-w-M\" style=\"left: 300px; height: 102.09104505132039px;\"></div><div class=\"CTPFVNB-w-x CTPFVNB-w-M\" style=\"left: 306px; height: 102.09104505132039px;\"></div><div class=\"CTPFVNB-w-x\" style=\"left: 312px; height: 99.26791092171847px;\"></div><div class=\"CTPFVNB-w-x\" style=\"left: 318px; height: 106px;\"></div><div class=\"CTPFVNB-w-x\" style=\"left: 324px; height: 99.26791092171847px;\"></div><div class=\"CTPFVNB-w-x\" style=\"left: 330px; height: 99.26791092171847px;\"></div><div class=\"CTPFVNB-w-x\" style=\"left: 336px; height: 99.26791092171847px;\"></div><div class=\"CTPFVNB-w-x CTPFVNB-w-M\" style=\"left: 342px; height: 99.26791092171847px;\"></div><div class=\"CTPFVNB-w-x CTPFVNB-w-M\" style=\"left: 348px; height: 102.09104505132039px;\"></div><div class=\"CTPFVNB-w-x\" style=\"left: 354px; height: 105.6742537542767px;\"></div><div class=\"CTPFVNB-w-L\" style=\"left: 11px;\"></div><div class=\"CTPFVNB-w-L\" style=\"left: 53px;\"></div><div class=\"CTPFVNB-w-L\" style=\"left: 95px;\"></div><div class=\"CTPFVNB-w-L\" style=\"left: 137px;\"></div><div class=\"CTPFVNB-w-L\" style=\"left: 179px;\"></div><div class=\"CTPFVNB-w-L\" style=\"left: 221px;\"></div><div class=\"CTPFVNB-w-L\" style=\"left: 263px;\"></div><div class=\"CTPFVNB-w-L\" style=\"left: 305px;\"></div><div class=\"CTPFVNB-w-L\" style=\"left: 347px;\"></div><div aria-hidden=\"true\" class=\"CTPFVNB-w-J\" style=\"display: none;\"></div><div aria-hidden=\"true\" class=\"CTPFVNB-w-K\" style=\"display: none;\"></div></div>,\n",
       " <div class=\"CTPFVNB-w-o CTPFVNB-w-b\"><div class=\"CTPFVNB-w-x\" style=\"left: 0px; height: 95.82922535211267px;\"></div><div class=\"CTPFVNB-w-x CTPFVNB-w-M\" style=\"left: 6px; height: 95.82922535211267px;\"></div><div class=\"CTPFVNB-w-x CTPFVNB-w-M\" style=\"left: 12px; height: 92.768661971831px;\"></div><div class=\"CTPFVNB-w-x\" style=\"left: 18px; height: 95.82922535211267px;\"></div><div class=\"CTPFVNB-w-x\" style=\"left: 24px; height: 95.82922535211267px;\"></div><div class=\"CTPFVNB-w-x\" style=\"left: 30px; height: 95.82922535211267px;\"></div><div class=\"CTPFVNB-w-x\" style=\"left: 36px; height: 95.82922535211267px;\"></div><div class=\"CTPFVNB-w-x\" style=\"left: 42px; height: 95.82922535211267px;\"></div><div class=\"CTPFVNB-w-x CTPFVNB-w-M\" style=\"left: 48px; height: 95.82922535211267px;\"></div><div class=\"CTPFVNB-w-x CTPFVNB-w-M\" style=\"left: 54px; height: 96.10915492957746px;\"></div><div class=\"CTPFVNB-w-x\" style=\"left: 60px; height: 95.82922535211267px;\"></div><div class=\"CTPFVNB-w-x\" style=\"left: 66px; height: 95.82922535211267px;\"></div><div class=\"CTPFVNB-w-x\" style=\"left: 72px; height: 87.1700704225352px;\"></div><div class=\"CTPFVNB-w-x\" style=\"left: 78px; height: 95.82922535211267px;\"></div><div class=\"CTPFVNB-w-x\" style=\"left: 84px; height: 95.82922535211267px;\"></div><div class=\"CTPFVNB-w-x CTPFVNB-w-M\" style=\"left: 90px; height: 96.10915492957746px;\"></div><div class=\"CTPFVNB-w-x CTPFVNB-w-M\" style=\"left: 96px; height: 92.768661971831px;\"></div><div class=\"CTPFVNB-w-x\" style=\"left: 102px; height: 87.1700704225352px;\"></div><div class=\"CTPFVNB-w-x CTPFVNB-w-f\" style=\"left: 108px; height: 83.25105633802816px;\"></div><div class=\"CTPFVNB-w-x\" style=\"left: 114px; height: 83.25105633802816px;\"></div><div class=\"CTPFVNB-w-x\" style=\"left: 120px; height: 83.25105633802816px;\"></div><div class=\"CTPFVNB-w-x\" style=\"left: 126px; height: 91.08908450704226px;\"></div><div class=\"CTPFVNB-w-x CTPFVNB-w-M\" style=\"left: 132px; height: 87.1700704225352px;\"></div><div class=\"CTPFVNB-w-x CTPFVNB-w-M\" style=\"left: 138px; height: 87.1700704225352px;\"></div><div class=\"CTPFVNB-w-x\" style=\"left: 144px; height: 87.1700704225352px;\"></div><div class=\"CTPFVNB-w-x\" style=\"left: 150px; height: 95.82922535211267px;\"></div><div class=\"CTPFVNB-w-x\" style=\"left: 156px; height: 95.82922535211267px;\"></div><div class=\"CTPFVNB-w-x\" style=\"left: 162px; height: 95.82922535211267px;\"></div><div class=\"CTPFVNB-w-x\" style=\"left: 168px; height: 95.82922535211267px;\"></div><div class=\"CTPFVNB-w-x CTPFVNB-w-M\" style=\"left: 174px; height: 96.10915492957746px;\"></div><div class=\"CTPFVNB-w-x CTPFVNB-w-M\" style=\"left: 180px; height: 92.768661971831px;\"></div><div class=\"CTPFVNB-w-x\" style=\"left: 186px; height: 95.82922535211267px;\"></div><div class=\"CTPFVNB-w-x\" style=\"left: 192px; height: 95.82922535211267px;\"></div><div class=\"CTPFVNB-w-x\" style=\"left: 198px; height: 95.82922535211267px;\"></div><div class=\"CTPFVNB-w-x\" style=\"left: 204px; height: 95.82922535211267px;\"></div><div class=\"CTPFVNB-w-x\" style=\"left: 210px; height: 96.10915492957746px;\"></div><div class=\"CTPFVNB-w-x CTPFVNB-w-M\" style=\"left: 216px; height: 96.10915492957746px;\"></div><div class=\"CTPFVNB-w-x CTPFVNB-w-M\" style=\"left: 222px; height: 95.82922535211267px;\"></div><div class=\"CTPFVNB-w-x\" style=\"left: 228px; height: 95.82922535211267px;\"></div><div class=\"CTPFVNB-w-x\" style=\"left: 234px; height: 95.82922535211267px;\"></div><div class=\"CTPFVNB-w-x\" style=\"left: 240px; height: 95.82922535211267px;\"></div><div class=\"CTPFVNB-w-x\" style=\"left: 246px; height: 95.82922535211267px;\"></div><div class=\"CTPFVNB-w-x\" style=\"left: 252px; height: 96.10915492957746px;\"></div><div class=\"CTPFVNB-w-x CTPFVNB-w-M\" style=\"left: 258px; height: 95.82922535211267px;\"></div><div class=\"CTPFVNB-w-x CTPFVNB-w-M\" style=\"left: 264px; height: 106px;\"></div><div class=\"CTPFVNB-w-x\" style=\"left: 270px; height: 96.10915492957746px;\"></div><div class=\"CTPFVNB-w-x\" style=\"left: 276px; height: 96.10915492957746px;\"></div><div class=\"CTPFVNB-w-x\" style=\"left: 282px; height: 96.10915492957746px;\"></div><div class=\"CTPFVNB-w-x\" style=\"left: 288px; height: 96.10915492957746px;\"></div><div class=\"CTPFVNB-w-x\" style=\"left: 294px; height: 96.10915492957746px;\"></div><div class=\"CTPFVNB-w-x CTPFVNB-w-M\" style=\"left: 300px; height: 106px;\"></div><div class=\"CTPFVNB-w-x CTPFVNB-w-M\" style=\"left: 306px; height: 96.10915492957746px;\"></div><div class=\"CTPFVNB-w-x\" style=\"left: 312px; height: 96.10915492957746px;\"></div><div class=\"CTPFVNB-w-x\" style=\"left: 318px; height: 96.10915492957746px;\"></div><div class=\"CTPFVNB-w-x\" style=\"left: 324px; height: 95.82922535211267px;\"></div><div class=\"CTPFVNB-w-x\" style=\"left: 330px; height: 95.82922535211267px;\"></div><div class=\"CTPFVNB-w-x\" style=\"left: 336px; height: 96.10915492957746px;\"></div><div class=\"CTPFVNB-w-x CTPFVNB-w-M\" style=\"left: 342px; height: 105.16021126760563px;\"></div><div class=\"CTPFVNB-w-x CTPFVNB-w-M\" style=\"left: 348px; height: 96.10915492957746px;\"></div><div class=\"CTPFVNB-w-x\" style=\"left: 354px; height: 96.10915492957746px;\"></div><div class=\"CTPFVNB-w-L\" style=\"left: 11px;\"></div><div class=\"CTPFVNB-w-L\" style=\"left: 53px;\"></div><div class=\"CTPFVNB-w-L\" style=\"left: 95px;\"></div><div class=\"CTPFVNB-w-L\" style=\"left: 137px;\"></div><div class=\"CTPFVNB-w-L\" style=\"left: 179px;\"></div><div class=\"CTPFVNB-w-L\" style=\"left: 221px;\"></div><div class=\"CTPFVNB-w-L\" style=\"left: 263px;\"></div><div class=\"CTPFVNB-w-L\" style=\"left: 305px;\"></div><div class=\"CTPFVNB-w-L\" style=\"left: 347px;\"></div><div aria-hidden=\"true\" class=\"CTPFVNB-w-J\" style=\"display: none;\"></div><div aria-hidden=\"true\" class=\"CTPFVNB-w-K\" style=\"display: none;\"></div></div>]"
      ]
     },
     "execution_count": 33,
     "metadata": {},
     "output_type": "execute_result"
    }
   ],
   "source": [
    "cities\n"
   ]
  },
  {
   "cell_type": "code",
   "execution_count": 38,
   "metadata": {},
   "outputs": [],
   "source": [
    "hlist=[]\n",
    "for bar in cities[0]\\\n",
    "        .findAll('div', 'CTPFVNB-w-x'):\n",
    "        hlist.append(float(bar['style']\\\n",
    "             .split('height: ')[1].replace('px;',''))*pph)\n",
    "                     "
   ]
  },
  {
   "cell_type": "code",
   "execution_count": 39,
   "metadata": {},
   "outputs": [
    {
     "data": {
      "text/html": [
       "<div>\n",
       "<style scoped>\n",
       "    .dataframe tbody tr th:only-of-type {\n",
       "        vertical-align: middle;\n",
       "    }\n",
       "\n",
       "    .dataframe tbody tr th {\n",
       "        vertical-align: top;\n",
       "    }\n",
       "\n",
       "    .dataframe thead th {\n",
       "        text-align: right;\n",
       "    }\n",
       "</style>\n",
       "<table border=\"1\" class=\"dataframe\">\n",
       "  <thead>\n",
       "    <tr style=\"text-align: right;\">\n",
       "      <th></th>\n",
       "      <th>price</th>\n",
       "    </tr>\n",
       "  </thead>\n",
       "  <tbody>\n",
       "    <tr>\n",
       "      <th>0</th>\n",
       "      <td>297.706187</td>\n",
       "    </tr>\n",
       "    <tr>\n",
       "      <th>1</th>\n",
       "      <td>265.118887</td>\n",
       "    </tr>\n",
       "    <tr>\n",
       "      <th>2</th>\n",
       "      <td>265.118887</td>\n",
       "    </tr>\n",
       "    <tr>\n",
       "      <th>3</th>\n",
       "      <td>265.118887</td>\n",
       "    </tr>\n",
       "    <tr>\n",
       "      <th>4</th>\n",
       "      <td>269.619563</td>\n",
       "    </tr>\n",
       "    <tr>\n",
       "      <th>5</th>\n",
       "      <td>247.587300</td>\n",
       "    </tr>\n",
       "    <tr>\n",
       "      <th>6</th>\n",
       "      <td>249.592056</td>\n",
       "    </tr>\n",
       "    <tr>\n",
       "      <th>7</th>\n",
       "      <td>253.200615</td>\n",
       "    </tr>\n",
       "    <tr>\n",
       "      <th>8</th>\n",
       "      <td>215.000000</td>\n",
       "    </tr>\n",
       "    <tr>\n",
       "      <th>9</th>\n",
       "      <td>215.000000</td>\n",
       "    </tr>\n",
       "    <tr>\n",
       "      <th>10</th>\n",
       "      <td>215.000000</td>\n",
       "    </tr>\n",
       "    <tr>\n",
       "      <th>11</th>\n",
       "      <td>247.587300</td>\n",
       "    </tr>\n",
       "    <tr>\n",
       "      <th>12</th>\n",
       "      <td>276.636207</td>\n",
       "    </tr>\n",
       "    <tr>\n",
       "      <th>13</th>\n",
       "      <td>405.451769</td>\n",
       "    </tr>\n",
       "    <tr>\n",
       "      <th>14</th>\n",
       "      <td>349.829829</td>\n",
       "    </tr>\n",
       "    <tr>\n",
       "      <th>15</th>\n",
       "      <td>286.680032</td>\n",
       "    </tr>\n",
       "    <tr>\n",
       "      <th>16</th>\n",
       "      <td>215.000000</td>\n",
       "    </tr>\n",
       "    <tr>\n",
       "      <th>17</th>\n",
       "      <td>235.047555</td>\n",
       "    </tr>\n",
       "    <tr>\n",
       "      <th>18</th>\n",
       "      <td>215.000000</td>\n",
       "    </tr>\n",
       "    <tr>\n",
       "      <th>19</th>\n",
       "      <td>265.118887</td>\n",
       "    </tr>\n",
       "    <tr>\n",
       "      <th>20</th>\n",
       "      <td>268.637233</td>\n",
       "    </tr>\n",
       "    <tr>\n",
       "      <th>21</th>\n",
       "      <td>265.118887</td>\n",
       "    </tr>\n",
       "    <tr>\n",
       "      <th>22</th>\n",
       "      <td>256.588652</td>\n",
       "    </tr>\n",
       "    <tr>\n",
       "      <th>23</th>\n",
       "      <td>215.000000</td>\n",
       "    </tr>\n",
       "    <tr>\n",
       "      <th>24</th>\n",
       "      <td>215.000000</td>\n",
       "    </tr>\n",
       "    <tr>\n",
       "      <th>25</th>\n",
       "      <td>215.000000</td>\n",
       "    </tr>\n",
       "    <tr>\n",
       "      <th>26</th>\n",
       "      <td>235.047555</td>\n",
       "    </tr>\n",
       "    <tr>\n",
       "      <th>27</th>\n",
       "      <td>295.190219</td>\n",
       "    </tr>\n",
       "    <tr>\n",
       "      <th>28</th>\n",
       "      <td>235.047555</td>\n",
       "    </tr>\n",
       "    <tr>\n",
       "      <th>29</th>\n",
       "      <td>256.588652</td>\n",
       "    </tr>\n",
       "    <tr>\n",
       "      <th>30</th>\n",
       "      <td>225.023777</td>\n",
       "    </tr>\n",
       "    <tr>\n",
       "      <th>31</th>\n",
       "      <td>230.035666</td>\n",
       "    </tr>\n",
       "    <tr>\n",
       "      <th>32</th>\n",
       "      <td>265.630099</td>\n",
       "    </tr>\n",
       "    <tr>\n",
       "      <th>33</th>\n",
       "      <td>285.677654</td>\n",
       "    </tr>\n",
       "    <tr>\n",
       "      <th>34</th>\n",
       "      <td>324.770386</td>\n",
       "    </tr>\n",
       "    <tr>\n",
       "      <th>35</th>\n",
       "      <td>315.748986</td>\n",
       "    </tr>\n",
       "    <tr>\n",
       "      <th>36</th>\n",
       "      <td>281.648095</td>\n",
       "    </tr>\n",
       "    <tr>\n",
       "      <th>37</th>\n",
       "      <td>285.677654</td>\n",
       "    </tr>\n",
       "    <tr>\n",
       "      <th>38</th>\n",
       "      <td>245.071332</td>\n",
       "    </tr>\n",
       "    <tr>\n",
       "      <th>39</th>\n",
       "      <td>322.765630</td>\n",
       "    </tr>\n",
       "    <tr>\n",
       "      <th>40</th>\n",
       "      <td>322.765630</td>\n",
       "    </tr>\n",
       "    <tr>\n",
       "      <th>41</th>\n",
       "      <td>326.775141</td>\n",
       "    </tr>\n",
       "    <tr>\n",
       "      <th>42</th>\n",
       "      <td>324.770386</td>\n",
       "    </tr>\n",
       "    <tr>\n",
       "      <th>43</th>\n",
       "      <td>281.648095</td>\n",
       "    </tr>\n",
       "    <tr>\n",
       "      <th>44</th>\n",
       "      <td>280.154553</td>\n",
       "    </tr>\n",
       "    <tr>\n",
       "      <th>45</th>\n",
       "      <td>245.071332</td>\n",
       "    </tr>\n",
       "    <tr>\n",
       "      <th>46</th>\n",
       "      <td>329.782274</td>\n",
       "    </tr>\n",
       "    <tr>\n",
       "      <th>47</th>\n",
       "      <td>332.799431</td>\n",
       "    </tr>\n",
       "    <tr>\n",
       "      <th>48</th>\n",
       "      <td>343.815562</td>\n",
       "    </tr>\n",
       "    <tr>\n",
       "      <th>49</th>\n",
       "      <td>358.851228</td>\n",
       "    </tr>\n",
       "    <tr>\n",
       "      <th>50</th>\n",
       "      <td>335.285328</td>\n",
       "    </tr>\n",
       "    <tr>\n",
       "      <th>51</th>\n",
       "      <td>305.213996</td>\n",
       "    </tr>\n",
       "    <tr>\n",
       "      <th>52</th>\n",
       "      <td>285.166441</td>\n",
       "    </tr>\n",
       "    <tr>\n",
       "      <th>53</th>\n",
       "      <td>335.796541</td>\n",
       "    </tr>\n",
       "    <tr>\n",
       "      <th>54</th>\n",
       "      <td>339.916313</td>\n",
       "    </tr>\n",
       "    <tr>\n",
       "      <th>55</th>\n",
       "      <td>318.756119</td>\n",
       "    </tr>\n",
       "    <tr>\n",
       "      <th>56</th>\n",
       "      <td>320.249662</td>\n",
       "    </tr>\n",
       "    <tr>\n",
       "      <th>57</th>\n",
       "      <td>320.249662</td>\n",
       "    </tr>\n",
       "    <tr>\n",
       "      <th>58</th>\n",
       "      <td>325.281598</td>\n",
       "    </tr>\n",
       "    <tr>\n",
       "      <th>59</th>\n",
       "      <td>305.213996</td>\n",
       "    </tr>\n",
       "  </tbody>\n",
       "</table>\n",
       "</div>"
      ],
      "text/plain": [
       "         price\n",
       "0   297.706187\n",
       "1   265.118887\n",
       "2   265.118887\n",
       "3   265.118887\n",
       "4   269.619563\n",
       "5   247.587300\n",
       "6   249.592056\n",
       "7   253.200615\n",
       "8   215.000000\n",
       "9   215.000000\n",
       "10  215.000000\n",
       "11  247.587300\n",
       "12  276.636207\n",
       "13  405.451769\n",
       "14  349.829829\n",
       "15  286.680032\n",
       "16  215.000000\n",
       "17  235.047555\n",
       "18  215.000000\n",
       "19  265.118887\n",
       "20  268.637233\n",
       "21  265.118887\n",
       "22  256.588652\n",
       "23  215.000000\n",
       "24  215.000000\n",
       "25  215.000000\n",
       "26  235.047555\n",
       "27  295.190219\n",
       "28  235.047555\n",
       "29  256.588652\n",
       "30  225.023777\n",
       "31  230.035666\n",
       "32  265.630099\n",
       "33  285.677654\n",
       "34  324.770386\n",
       "35  315.748986\n",
       "36  281.648095\n",
       "37  285.677654\n",
       "38  245.071332\n",
       "39  322.765630\n",
       "40  322.765630\n",
       "41  326.775141\n",
       "42  324.770386\n",
       "43  281.648095\n",
       "44  280.154553\n",
       "45  245.071332\n",
       "46  329.782274\n",
       "47  332.799431\n",
       "48  343.815562\n",
       "49  358.851228\n",
       "50  335.285328\n",
       "51  305.213996\n",
       "52  285.166441\n",
       "53  335.796541\n",
       "54  339.916313\n",
       "55  318.756119\n",
       "56  320.249662\n",
       "57  320.249662\n",
       "58  325.281598\n",
       "59  305.213996"
      ]
     },
     "execution_count": 39,
     "metadata": {},
     "output_type": "execute_result"
    }
   ],
   "source": [
    "fares = pd.DataFrame(hlist, columns=['price'])\n",
    "fares\n"
   ]
  },
  {
   "cell_type": "code",
   "execution_count": 40,
   "metadata": {},
   "outputs": [
    {
     "data": {
      "text/plain": [
       "price    215.0\n",
       "dtype: float64"
      ]
     },
     "execution_count": 40,
     "metadata": {},
     "output_type": "execute_result"
    }
   ],
   "source": [
    "fares.min()"
   ]
  },
  {
   "cell_type": "code",
   "execution_count": 43,
   "metadata": {},
   "outputs": [
    {
     "data": {
      "text/html": [
       "<div>\n",
       "<style scoped>\n",
       "    .dataframe tbody tr th:only-of-type {\n",
       "        vertical-align: middle;\n",
       "    }\n",
       "\n",
       "    .dataframe tbody tr th {\n",
       "        vertical-align: top;\n",
       "    }\n",
       "\n",
       "    .dataframe thead th {\n",
       "        text-align: right;\n",
       "    }\n",
       "</style>\n",
       "<table border=\"1\" class=\"dataframe\">\n",
       "  <thead>\n",
       "    <tr style=\"text-align: right;\">\n",
       "      <th></th>\n",
       "      <th>price</th>\n",
       "    </tr>\n",
       "  </thead>\n",
       "  <tbody>\n",
       "    <tr>\n",
       "      <th>count</th>\n",
       "      <td>60.000000</td>\n",
       "    </tr>\n",
       "    <tr>\n",
       "      <th>mean</th>\n",
       "      <td>280.520755</td>\n",
       "    </tr>\n",
       "    <tr>\n",
       "      <th>std</th>\n",
       "      <td>45.102309</td>\n",
       "    </tr>\n",
       "    <tr>\n",
       "      <th>min</th>\n",
       "      <td>215.000000</td>\n",
       "    </tr>\n",
       "    <tr>\n",
       "      <th>25%</th>\n",
       "      <td>246.958308</td>\n",
       "    </tr>\n",
       "    <tr>\n",
       "      <th>50%</th>\n",
       "      <td>278.395380</td>\n",
       "    </tr>\n",
       "    <tr>\n",
       "      <th>75%</th>\n",
       "      <td>320.878654</td>\n",
       "    </tr>\n",
       "    <tr>\n",
       "      <th>max</th>\n",
       "      <td>405.451769</td>\n",
       "    </tr>\n",
       "  </tbody>\n",
       "</table>\n",
       "</div>"
      ],
      "text/plain": [
       "            price\n",
       "count   60.000000\n",
       "mean   280.520755\n",
       "std     45.102309\n",
       "min    215.000000\n",
       "25%    246.958308\n",
       "50%    278.395380\n",
       "75%    320.878654\n",
       "max    405.451769"
      ]
     },
     "execution_count": 43,
     "metadata": {},
     "output_type": "execute_result"
    }
   ],
   "source": [
    "fares.describe()"
   ]
  },
  {
   "cell_type": "code",
   "execution_count": 48,
   "metadata": {},
   "outputs": [
    {
     "data": {
      "text/plain": [
       "<matplotlib.collections.PathCollection at 0x2986f194d30>"
      ]
     },
     "execution_count": 48,
     "metadata": {},
     "output_type": "execute_result"
    },
    {
     "data": {
      "image/png": "[encoded data removed]",
      "text/plain": [
       "<matplotlib.figure.Figure at 0x2986eef50b8>"
      ]
     },
     "metadata": {},
     "output_type": "display_data"
    }
   ],
   "source": [
    "fig, ax = plt.subplots(figsize=(10,6))\n",
    "plt.scatter(np.arange(len(fares['price'])),fares['price'])\n"
   ]
  },
  {
   "cell_type": "code",
   "execution_count": 49,
   "metadata": {},
   "outputs": [],
   "source": [
    "px = [x for x in fares['price']]"
   ]
  },
  {
   "cell_type": "code",
   "execution_count": 50,
   "metadata": {},
   "outputs": [],
   "source": [
    "ff = pd.DataFrame(px, columns=['fare']).reset_index()"
   ]
  },
  {
   "cell_type": "code",
   "execution_count": 51,
   "metadata": {},
   "outputs": [],
   "source": [
    "from sklearn.cluster import DBSCAN\n",
    "from sklearn.preprocessing import StandardScaler"
   ]
  },
  {
   "cell_type": "code",
   "execution_count": 53,
   "metadata": {},
   "outputs": [],
   "source": [
    "X = StandardScaler().fit_transform(ff)\n",
    "db = DBSCAN(eps=.5, min_samples=1).fit(X)\n",
    "\n",
    "labels = db.labels_\n",
    "clusters = len(set(labels))\n",
    "unique_labels = set(labels)\n",
    "colors = plt.cm.Spectral(np.linspace(0,1, len(unique_labels)))\n"
   ]
  },
  {
   "cell_type": "code",
   "execution_count": 55,
   "metadata": {},
   "outputs": [
    {
     "data": {
      "text/plain": [
       "Text(0.5,1.01,'Total Clusters: 5')"
      ]
     },
     "execution_count": 55,
     "metadata": {},
     "output_type": "execute_result"
    },
    {
     "data": {
      "image/png": "[encoded data removed]",
      "text/plain": [
       "<matplotlib.figure.Figure at 0x2986ef84278>"
      ]
     },
     "metadata": {},
     "output_type": "display_data"
    }
   ],
   "source": [
    "plt.subplots(figsize=(12,8))\n",
    "for k, c in zip(unique_labels, colors):\n",
    "    class_member_mask = (labels == k)\n",
    "    xy = X[class_member_mask]\n",
    "    plt.plot(xy[:,0], xy[:,1], 'o', markerfacecolor=c, markeredgecolor='k', markersize=14)\n",
    "plt.title(\"Total Clusters: {}\".format(clusters), fontsize=14,y=1.01)"
   ]
  },
  {
   "cell_type": "code",
   "execution_count": 61,
   "metadata": {},
   "outputs": [
    {
     "data": {
      "text/plain": [
       "215.0"
      ]
     },
     "execution_count": 61,
     "metadata": {},
     "output_type": "execute_result"
    }
   ],
   "source": [
    "px[10]"
   ]
  },
  {
   "cell_type": "code",
   "execution_count": null,
   "metadata": {},
   "outputs": [],
   "source": []
  },
  {
   "cell_type": "code",
   "execution_count": null,
   "metadata": {},
   "outputs": [],
   "source": []
  }
 ],
 "metadata": {
  "kernelspec": {
   "display_name": "Python 3",
   "language": "python",
   "name": "python3"
  },
  "language_info": {
   "codemirror_mode": {
    "name": "ipython",
    "version": 3
   },
   "file_extension": ".py",
   "mimetype": "text/x-python",
   "name": "python",
   "nbconvert_exporter": "python",
   "pygments_lexer": "ipython3",
   "version": "3.6.4"
  }
 },
 "nbformat": 4,
 "nbformat_minor": 2
}
